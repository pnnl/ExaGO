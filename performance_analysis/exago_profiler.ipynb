{
 "cells": [
  {
   "cell_type": "code",
   "execution_count": null,
   "metadata": {},
   "outputs": [],
   "source": [
    "import sys\n",
    "!{sys.executable} -m pip install toml\n",
    "!{sys.executable} -m pip install matplotlib\n",
    "!{sys.executable} -m pip install pandas"
   ]
  },
  {
   "cell_type": "code",
   "execution_count": null,
   "metadata": {},
   "outputs": [],
   "source": [
    "!{sys.executable} perf_pipeline.py opflow_testsuite_cloud.toml"
   ]
  },
  {
   "cell_type": "code",
   "execution_count": null,
   "metadata": {},
   "outputs": [],
   "source": [
    "import matplotlib.pyplot as plt\n",
    "import pandas as pd\n",
    "import json\n",
    "def visualizeProfiledData(in_file):\n",
    "    profiledData = json.load(open(in_file, 'r'))\n",
    "    ## BAR GRAPH ##\n",
    "    xAxis = []\n",
    "    hiop_values = []\n",
    "    ipopt_values = []\n",
    "    xGroups = ['HIOP', 'IPOPT']\n",
    "    for e_data in profiledData:\n",
    "        if e_data['opflow_solver'] == 'HIOP':\n",
    "            hiop_values.append(e_data['petsc_solve_time'])\n",
    "            xAxis.append(e_data['max_iter'])\n",
    "        else:\n",
    "            ipopt_values.append(e_data['petsc_solve_time'])\n",
    "\n",
    "    df = pd.DataFrame({xGroups[0]: hiop_values,\n",
    "                    xGroups[1]: ipopt_values}, index=xAxis)\n",
    "    ax = df.plot.bar(rot=0, color={xGroups[0]: \"green\", xGroups[1]: \"red\"})\n",
    "    plt.xlabel('Iterations')\n",
    "    plt.ylabel('Solve Time (s)')\n",
    "    plt.show()"
   ]
  },
  {
   "cell_type": "code",
   "execution_count": null,
   "metadata": {},
   "outputs": [],
   "source": [
    "in_file = \"OPFLOW_cloud_profiling.json\"\n",
    "visualizeProfiledData(in_file)"
   ]
  }
 ],
 "metadata": {
  "language_info": {
   "name": "python"
  },
  "orig_nbformat": 4
 },
 "nbformat": 4,
 "nbformat_minor": 2
}
