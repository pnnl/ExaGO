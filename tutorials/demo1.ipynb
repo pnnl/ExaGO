{
 "cells": [
  {
   "cell_type": "markdown",
   "id": "8f6e6146-2b29-4a6c-a5b3-4390619c40b2",
   "metadata": {},
   "source": [
    "## ExaGO Demo 1\n",
    "\n",
    "In this demo, we will\n",
    "\n",
    "1. walk through the [ExaGO Github repostory](https://github.com/pnnl/ExaGO)\n",
    "2. Run an AC optimal power flow, play with [different options available](https://github.com/pnnl/ExaGO/blob/develop/docs/web/opflow.md#options)\n",
    "3. Run a security-constrained ACOPF\n",
    "4. Visualize ACOPF output"
   ]
  },
  {
   "cell_type": "markdown",
   "id": "85a638b2-a6f9-4009-9606-22f4d91ac25f",
   "metadata": {},
   "source": [
    "### 1. [ExaGO Github repostory](https://github.com/pnnl/ExaGO)"
   ]
  },
  {
   "cell_type": "markdown",
   "id": "efe2eccb-3f05-4392-b95d-bfe4276915a4",
   "metadata": {},
   "source": [
    "### 2 Run AC optimal power flow (OPFLOW)"
   ]
  },
  {
   "cell_type": "code",
   "execution_count": 6,
   "id": "95c437a9-22c8-432a-ac51-211f2d862286",
   "metadata": {},
   "outputs": [
    {
     "name": "stdout",
     "output_type": "stream",
     "text": [
      "\n",
      "******************************************************************************\n",
      "This program contains Ipopt, a library for large-scale nonlinear optimization.\n",
      " Ipopt is released as open source code under the Eclipse Public License (EPL).\n",
      "         For more information visit http://projects.coin-or.org/Ipopt\n",
      "******************************************************************************\n",
      "\n",
      "This is Ipopt version 3.13.0, running with linear solver ma27.\n",
      "\n",
      "Number of nonzeros in equality constraint Jacobian...:      114\n",
      "Number of nonzeros in inequality constraint Jacobian.:       72\n",
      "Number of nonzeros in Lagrangian Hessian.............:       96\n",
      "\n",
      "Total number of variables............................:       24\n",
      "                     variables with only lower bounds:        0\n",
      "                variables with lower and upper bounds:       16\n",
      "                     variables with only upper bounds:        0\n",
      "Total number of equality constraints.................:       18\n",
      "Total number of inequality constraints...............:       18\n",
      "        inequality constraints with only lower bounds:        0\n",
      "   inequality constraints with lower and upper bounds:       18\n",
      "        inequality constraints with only upper bounds:        0\n",
      "\n",
      "iter    objective    inf_pr   inf_du lg(mu)  ||d||  lg(rg) alpha_du alpha_pr  ls\n",
      "   0  1.0318125e+04 1.80e+00 1.00e+02  -1.0 0.00e+00    -  0.00e+00 0.00e+00   0\n",
      "   1  7.7157691e+03 1.17e+00 1.03e+02  -1.0 1.08e+00    -  6.27e-01 3.50e-01f  1\n",
      "   2  7.6608235e+03 1.15e+00 1.01e+02  -1.0 6.28e+00    -  1.20e-02 1.37e-02f  1\n",
      "   3  7.4466686e+03 1.09e+00 3.06e+02  -1.0 3.74e+00    -  4.15e-03 5.81e-02f  1\n",
      "   4  5.4292675e+03 3.92e-01 4.83e+03  -1.0 7.34e-01    -  3.34e-03 6.40e-01f  1\n",
      "   5  4.5792834e+03 2.24e-01 1.51e+03  -1.0 6.46e-01   2.0 8.77e-03 7.37e-01f  1\n",
      "   6  4.2907579e+03 1.20e-02 3.57e+02  -1.0 3.36e-01    -  5.37e-01 1.00e+00f  1\n",
      "   7  4.1690456e+03 4.40e-02 5.31e+01  -1.0 3.31e-01    -  9.22e-01 1.00e+00f  1\n",
      "   8  4.1687926e+03 4.88e-04 1.93e+00  -1.0 4.79e-02   1.5 1.00e+00 1.00e+00h  1\n",
      "   9  4.1497176e+03 1.19e-02 9.92e+00  -2.5 1.87e-01    -  8.38e-01 1.00e+00f  1\n",
      "iter    objective    inf_pr   inf_du lg(mu)  ||d||  lg(rg) alpha_du alpha_pr  ls\n",
      "  10  4.1463942e+03 1.09e-02 5.09e-01  -2.5 1.15e-01    -  8.71e-01 1.00e+00h  1\n",
      "  11  4.1449657e+03 1.47e-03 1.79e-02  -2.5 2.75e-02    -  1.00e+00 1.00e+00h  1\n",
      "  12  4.1445415e+03 6.63e-04 9.12e-02  -3.8 1.48e-02    -  1.00e+00 6.30e-01h  1\n",
      "  13  4.1444705e+03 3.43e-04 4.96e-02  -3.8 2.08e-02    -  1.00e+00 8.93e-01h  1\n",
      "  14  4.1444809e+03 4.48e-05 1.79e-04  -3.8 6.82e-03    -  1.00e+00 1.00e+00f  1\n",
      "  15  4.1444611e+03 1.96e-05 4.55e-03  -5.7 4.57e-03    -  1.00e+00 9.34e-01h  1\n",
      "  16  4.1444607e+03 6.49e-06 1.17e-05  -5.7 2.60e-03    -  1.00e+00 1.00e+00h  1\n",
      "  17  4.1444605e+03 1.19e-06 2.07e-06  -7.0 1.11e-03    -  1.00e+00 1.00e+00h  1\n",
      "  18  4.1444605e+03 1.58e-07 3.29e-07  -7.0 4.06e-04    -  1.00e+00 1.00e+00h  1\n",
      "\n",
      "Number of Iterations....: 18\n",
      "\n",
      "                                   (scaled)                 (unscaled)\n",
      "Objective...............:   9.2925122354655898e+01    4.1444604570176534e+03\n",
      "Dual infeasibility......:   3.2927396232639966e-07    1.4685618719757426e-05\n",
      "Constraint violation....:   2.6639683056717267e-08    2.6639683056717267e-08\n",
      "Complementarity.........:   4.7840038622131888e-07    2.1336657225470824e-05\n",
      "Overall NLP error.......:   4.7840038622131888e-07    2.1336657225470824e-05\n",
      "\n",
      "\n",
      "Number of objective function evaluations             = 19\n",
      "Number of objective gradient evaluations             = 19\n",
      "Number of equality constraint evaluations            = 19\n",
      "Number of inequality constraint evaluations          = 19\n",
      "Number of equality constraint Jacobian evaluations   = 19\n",
      "Number of inequality constraint Jacobian evaluations = 19\n",
      "Number of Lagrangian Hessian evaluations             = 18\n",
      "Total CPU secs in IPOPT (w/o function evaluations)   =      0.003\n",
      "Total CPU secs in NLP function evaluations           =      0.003\n",
      "\n",
      "EXIT: Optimal Solution Found.\n"
     ]
    }
   ],
   "source": [
    "EXAGO_DIR='/Users/abhy245/software/ExaGO'\n",
    "\n",
    "netfile='$EXAGO_DIR/datafiles/case9/case9mod.m'\n",
    "\n",
    "! opflow -netfile $netfile"
   ]
  },
  {
   "cell_type": "markdown",
   "metadata": {},
   "source": [
    "#### print summary, save output to MATPOWER format file, profile code"
   ]
  },
  {
   "cell_type": "code",
   "execution_count": null,
   "metadata": {},
   "outputs": [],
   "source": [
    "! opflow -netfile $netfile -print_output -save_output case9 -opflow_output_format MATPOWER -log_view"
   ]
  },
  {
   "cell_type": "markdown",
   "metadata": {},
   "source": [
    "#### Use AC power flow initialization, hold generator bus voltage constant within Q limits"
   ]
  },
  {
   "cell_type": "code",
   "execution_count": null,
   "metadata": {},
   "outputs": [],
   "source": [
    "! opflow -netfile $netfile -opflow_initialization ACPF -opflow_genbusvoltage FIXED_WITHIN_QBOUNDS -save_output case9_fixedgenV -print_output"
   ]
  },
  {
   "cell_type": "markdown",
   "metadata": {},
   "source": [
    "#### Activate load loss (shedding)"
   ]
  },
  {
   "cell_type": "code",
   "execution_count": null,
   "metadata": {},
   "outputs": [],
   "source": [
    "netfile = '$EXAGO_DIR/datafiles/case9/case9mod_loadloss.m'\n",
    "\n",
    "! opflow -netfile $netfile -opflow_include_loadloss_variables -print_output -save_output case9_loadloss"
   ]
  },
  {
   "cell_type": "markdown",
   "metadata": {},
   "source": [
    "#### See full list of [OPFLOW options](https://github.com/pnnl/ExaGO/blob/develop/docs/web/opflow.md#options) "
   ]
  },
  {
   "cell_type": "markdown",
   "id": "370d7a00-95ce-4c8c-8bb6-797164a6759e",
   "metadata": {},
   "source": [
    "### 3. Run Security-constrained AC optimal power\n",
    "\n",
    "Note: We run this in an \"embarrasingly parallel\" fashion as an example, i.e., each ACOPF is solved separately. With HIOP solver installed, one can solve a proper security (contingency)-constrained ACOPF."
   ]
  },
  {
   "cell_type": "code",
   "execution_count": null,
   "id": "7eb0e118-d6b2-4207-ae8c-525e56a2ef79",
   "metadata": {},
   "outputs": [],
   "source": [
    "# Run SCOPFLOW with all contingencies, save output to directory, use ACPF initialization for each subproblem\n",
    "netfile='/Users/abhy245/software/ExaGO/datafiles/case9/case9mod.m'\n",
    "ctgcfile='/Users/abhy245/software/ExaGO/datafiles/case9/case9.cont'\n",
    "\n",
    "! cat $ctgcfile"
   ]
  },
  {
   "cell_type": "markdown",
   "metadata": {},
   "source": [
    "#### Run on 4 processors, print output, save output to directory called SCOPFLOW, select all contingencies in the list"
   ]
  },
  {
   "cell_type": "code",
   "execution_count": null,
   "metadata": {},
   "outputs": [],
   "source": [
    "! mpiexec -n 4 $EXAGO_DIR/install/bin/scopflow -netfile $netfile -ctgcfile $ctgcfile -scopflow_Nc -1 -scopflow_solver EMPAR -print_output -save_output -scopflow_output_directory case9scopf -opflow_initialization ACPF -opflow_output_format MATPOWER"
   ]
  },
  {
   "cell_type": "markdown",
   "metadata": {},
   "source": [
    "### 4. Visualize ACOPF output"
   ]
  },
  {
   "cell_type": "code",
   "execution_count": 2,
   "metadata": {},
   "outputs": [],
   "source": [
    "# ACTIVSg Texas system\n",
    "#netfile='$EXAGO_DIR/install/bin/ACTIVSg2000/case_ACTIVSg2000.m'\n",
    "#gicfile='$EXAGO_DIR/install/bin/ACTIVSg2000/ACTIVSg2000_GIC_data.gic'\n",
    "\n",
    "# ACTIVSg WECC system\n",
    "netfile='$EXAGO_DIR/install/bin/ACTIVSg10k/case_ACTIVSg10k.m'\n",
    "gicfile='$EXAGO_DIR/install/bin/ACTIVSg10k/ACTIVSg10k_GIC_data.gic'"
   ]
  },
  {
   "cell_type": "markdown",
   "metadata": {},
   "source": [
    "#### Run ACOPF and save output to JSON format"
   ]
  },
  {
   "cell_type": "code",
   "execution_count": null,
   "metadata": {},
   "outputs": [],
   "source": [
    "! opflow -netfile $netfile -save_output case10000 -opflow_output_format JSON -gicfile $gicfile -opflow_initialization FROMFILE -opflow_ignore_lineflow_constraints"
   ]
  },
  {
   "cell_type": "markdown",
   "metadata": {},
   "source": [
    "#### Copy over JSON output file to $EXAGO_DIR/viz/data directory"
   ]
  },
  {
   "cell_type": "code",
   "execution_count": 7,
   "metadata": {},
   "outputs": [],
   "source": [
    "! cp case10000.json $EXAGO_DIR/viz/data"
   ]
  },
  {
   "cell_type": "markdown",
   "metadata": {},
   "source": [
    "#### Go to $EXAGO_DIR/viz directory and load the JSON output file"
   ]
  },
  {
   "cell_type": "code",
   "execution_count": 8,
   "metadata": {},
   "outputs": [],
   "source": [
    "import os\n",
    "os.chdir(os.path.join(EXAGO_DIR,'viz'))\n",
    "! python3 geninputfile.py case10000.json"
   ]
  },
  {
   "cell_type": "markdown",
   "metadata": {},
   "source": [
    "#### Launch visualization engine \n",
    "\n",
    "One needs to install the required libraries for the visualization engine first. This can be done with running `npm install` in the $EXAGO_DIR/viz directory. See [](https://github.com/pnnl/ExaGO/viz) for instructions on the visualization engine."
   ]
  },
  {
   "cell_type": "code",
   "execution_count": 9,
   "metadata": {},
   "outputs": [
    {
     "name": "stdout",
     "output_type": "stream",
     "text": [
      "\n",
      "> geojson@0.0.0 start\n",
      "> webpack-dev-server --progress --hot --open\n",
      "\n",
      "\u001b[1m10% building 1/1 modules 0 active\u001b[39m\u001b[22m\u001b[34mℹ\u001b[39m \u001b[90m｢wds｣\u001b[39m: Project is running at \u001b[1m\u001b[34mhttp://localhost:8080/\u001b[39m\u001b[22m\n",
      "\u001b[34mℹ\u001b[39m \u001b[90m｢wds｣\u001b[39m: webpack output is served from \u001b[1m\u001b[34m/\u001b[39m\u001b[22m\n",
      "\u001b[34mℹ\u001b[39m \u001b[90m｢wds｣\u001b[39m: Content not from webpack is served from \u001b[1m\u001b[34m/Users/abhy245/software/ExaGO/viz\u001b[39m\u001b[22m\n",
      "\u001b[1m10% building 1/4 modules 3 active ...4!/Users/abhy245/software/ExaGO/viz/app.js\u001b[39m\u001b[22m\u001b[2K\u001b[34mℹ\u001b[39m \u001b[90m｢wdm｣\u001b[39m: wait until bundle finished: /\n",
      "\u001b[34mℹ\u001b[39m \u001b[90m｢wdm｣\u001b[39m: Hash: \u001b[1m735e438db1f2e70cd496\u001b[39m\u001b[22m2m39m\u001b[22me.js\u001b[39m\u001b[22m\u001b[2K\u001b[2K\u001b[2K\u001b[2K\u001b[2K\u001b[2K\u001b[2K\u001b[2K\u001b[2K\u001b[2K\u001b[2K\u001b[2K\u001b[2K\u001b[2K\u001b[2K\u001b[2K\u001b[2K\u001b[2K\u001b[2K\u001b[2K\u001b[2K\u001b[2K\u001b[2K\u001b[2K\u001b[2K\u001b[2K\u001b[2K\u001b[2K\u001b[2K\u001b[2K\u001b[2K\u001b[2K\u001b[2K\u001b[2K\u001b[2K\u001b[2K\u001b[2K\u001b[2K\u001b[2K\u001b[2K\u001b[2K\u001b[2K\u001b[2K\u001b[2K\u001b[2K\u001b[2K\u001b[2K\u001b[2K\u001b[2K\u001b[2K\u001b[2K\u001b[2K\u001b[2K\u001b[2K\u001b[2K\u001b[2K\u001b[2K\u001b[2K\u001b[2K\u001b[2K\u001b[2K\u001b[2K\u001b[2K\u001b[2K\u001b[2K\u001b[2K\u001b[2K\u001b[2K\u001b[2K\u001b[2K\u001b[2K\u001b[2K\u001b[2K\u001b[2K\u001b[2K\u001b[2K\u001b[2K\u001b[2K\u001b[2K\u001b[2K\u001b[2K\u001b[2K\u001b[2K\u001b[2K\u001b[2K\u001b[2K\u001b[2K\u001b[2K\u001b[2K\u001b[2K\u001b[2K\u001b[2K\u001b[2K\u001b[2K\u001b[2K\u001b[2K\u001b[2K\u001b[2K\u001b[2K\u001b[2K\u001b[2K\u001b[2K\u001b[2K\u001b[2K\u001b[2K\u001b[2K\u001b[2K\u001b[2K\u001b[2K\u001b[2K\u001b[2K\u001b[2K\u001b[2K\u001b[2K\u001b[2K\n",
      "Version: webpack \u001b[1m4.47.0\u001b[39m\u001b[22m\n",
      "Time: \u001b[1m9587\u001b[39m\u001b[22mms\n",
      "Built at: 11/14/2023 \u001b[1m4:57:50 PM\u001b[39m\u001b[22m\n",
      "     \u001b[1mAsset\u001b[39m\u001b[22m      \u001b[1mSize\u001b[39m\u001b[22m  \u001b[1mChunks\u001b[39m\u001b[22m  \u001b[1m\u001b[39m\u001b[22m                 \u001b[1m\u001b[39m\u001b[22m\u001b[1mChunk Names\u001b[39m\u001b[22m\n",
      "    \u001b[1m\u001b[32mapp.js\u001b[39m\u001b[22m  44.2 MiB     \u001b[1mapp\u001b[39m\u001b[22m  \u001b[1m\u001b[32m[emitted]\u001b[39m\u001b[22m        app\n",
      "\u001b[1m\u001b[32mapp.js.map\u001b[39m\u001b[22m  20.7 MiB     \u001b[1mapp\u001b[39m\u001b[22m  \u001b[1m\u001b[32m[emitted] [dev]\u001b[39m\u001b[22m  app\n",
      "Entrypoint \u001b[1mapp\u001b[39m\u001b[22m = \u001b[1m\u001b[32mapp.js\u001b[39m\u001b[22m \u001b[1m\u001b[32mapp.js.map\u001b[39m\u001b[22m\n",
      "[0] \u001b[1mmulti (webpack)-dev-server/client?http://localhost:8080 (webpack)/hot/dev-server.js ./app.js\u001b[39m\u001b[22m 52 bytes {\u001b[1m\u001b[33mapp\u001b[39m\u001b[22m}\u001b[1m\u001b[32m [built]\u001b[39m\u001b[22m\n",
      "[\u001b[1m./app.js\u001b[39m\u001b[22m] 44.1 KiB {\u001b[1m\u001b[33mapp\u001b[39m\u001b[22m}\u001b[1m\u001b[32m [built]\u001b[39m\u001b[22m\n",
      "[\u001b[1m./module_casedata.js\u001b[39m\u001b[22m] 348 bytes {\u001b[1m\u001b[33mapp\u001b[39m\u001b[22m}\u001b[1m\u001b[32m [built]\u001b[39m\u001b[22m\n",
      "[\u001b[1m./node_modules/@deck.gl/core/dist/esm/index.js\u001b[39m\u001b[22m] 3.49 KiB {\u001b[1m\u001b[33mapp\u001b[39m\u001b[22m}\u001b[1m\u001b[32m [built]\u001b[39m\u001b[22m\n",
      "[\u001b[1m./node_modules/@deck.gl/extensions/dist/esm/index.js\u001b[39m\u001b[22m] 795 bytes {\u001b[1m\u001b[33mapp\u001b[39m\u001b[22m}\u001b[1m\u001b[32m [built]\u001b[39m\u001b[22m\n",
      "[\u001b[1m./node_modules/@deck.gl/layers/dist/esm/index.js\u001b[39m\u001b[22m] 1.14 KiB {\u001b[1m\u001b[33mapp\u001b[39m\u001b[22m}\u001b[1m\u001b[32m [built]\u001b[39m\u001b[22m\n",
      "[\u001b[1m./node_modules/@deck.gl/react/dist/esm/index.js\u001b[39m\u001b[22m] 115 bytes {\u001b[1m\u001b[33mapp\u001b[39m\u001b[22m}\u001b[1m\u001b[32m [built]\u001b[39m\u001b[22m\n",
      "[\u001b[1m./node_modules/@mui/icons-material/ArrowDropDown.js\u001b[39m\u001b[22m] 492 bytes {\u001b[1m\u001b[33mapp\u001b[39m\u001b[22m}\u001b[1m\u001b[32m [built]\u001b[39m\u001b[22m\n",
      "[\u001b[1m./node_modules/@mui/icons-material/HomeOutlined.js\u001b[39m\u001b[22m] 554 bytes {\u001b[1m\u001b[33mapp\u001b[39m\u001b[22m}\u001b[1m\u001b[32m [built]\u001b[39m\u001b[22m\n",
      "[\u001b[1m./node_modules/@mui/icons-material/ThreeSixtyOutlined.js\u001b[39m\u001b[22m] 670 bytes {\u001b[1m\u001b[33mapp\u001b[39m\u001b[22m}\u001b[1m\u001b[32m [built]\u001b[39m\u001b[22m\n",
      "[\u001b[1m./node_modules/@mui/icons-material/esm/index.js\u001b[39m\u001b[22m] 688 KiB {\u001b[1m\u001b[33mapp\u001b[39m\u001b[22m}\u001b[1m\u001b[32m [built]\u001b[39m\u001b[22m\n",
      "[\u001b[1m./node_modules/@mui/material/Accordion/index.js\u001b[39m\u001b[22m] 155 bytes {\u001b[1m\u001b[33mapp\u001b[39m\u001b[22m}\u001b[1m\u001b[32m [built]\u001b[39m\u001b[22m\n",
      "[\u001b[1m./node_modules/@mui/material/AccordionDetails/index.js\u001b[39m\u001b[22m] 183 bytes {\u001b[1m\u001b[33mapp\u001b[39m\u001b[22m}\u001b[1m\u001b[32m [built]\u001b[39m\u001b[22m\n",
      "[./node_modules/webpack-dev-server/client/index.js?http://localhost:8080] \u001b[1m(webpack)-dev-server/client?http://localhost:8080\u001b[39m\u001b[22m 4.29 KiB {\u001b[1m\u001b[33mapp\u001b[39m\u001b[22m}\u001b[1m\u001b[32m [built]\u001b[39m\u001b[22m\n",
      "[./node_modules/webpack/hot/dev-server.js] \u001b[1m(webpack)/hot/dev-server.js\u001b[39m\u001b[22m 1.59 KiB {\u001b[1m\u001b[33mapp\u001b[39m\u001b[22m}\u001b[1m\u001b[32m [built]\u001b[39m\u001b[22m\n",
      "    + 12856 hidden modules\n",
      "\u001b[34mℹ\u001b[39m \u001b[90m｢wdm｣\u001b[39m: Compiled successfully.\n"
     ]
    }
   ],
   "source": [
    "! npm start"
   ]
  }
 ],
 "metadata": {
  "kernelspec": {
   "display_name": "Python 3 (ipykernel)",
   "language": "python",
   "name": "python3"
  },
  "language_info": {
   "codemirror_mode": {
    "name": "ipython",
    "version": 3
   },
   "file_extension": ".py",
   "mimetype": "text/x-python",
   "name": "python",
   "nbconvert_exporter": "python",
   "pygments_lexer": "ipython3",
   "version": "3.11.6"
  }
 },
 "nbformat": 4,
 "nbformat_minor": 5
}
