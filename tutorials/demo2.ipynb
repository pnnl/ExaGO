{
 "cells": [
  {
   "cell_type": "markdown",
   "id": "8f6e6146-2b29-4a6c-a5b3-4390619c40b2",
   "metadata": {},
   "source": [
    "## ExaGO Demo 2\n",
    "\n",
    "In this demo, we will use ExaGO's python wrappers to\n",
    "\n",
    "1. Run an AC optimal power flow (ACOPF) with load loss activated\n",
    "2. Run security constrained ACOPF\n",
    "3. Run security constrained ACOPF on multiple processors\n",
    "4. Run stochastic security constrained ACOPF\n",
    "5. Run stochastic security constrained ACOPF on multiple processors"
   ]
  },
  {
   "cell_type": "code",
   "execution_count": null,
   "metadata": {},
   "outputs": [],
   "source": [
    "import os\n",
    "import exago\n",
    "## Initialize ExaGO\n",
    "exago.initialize(\"exago_examples\")"
   ]
  },
  {
   "cell_type": "markdown",
   "metadata": {},
   "source": [
    "#### 1. AC optimal power flow with load loss enabled"
   ]
  },
  {
   "cell_type": "code",
   "execution_count": null,
   "id": "e8f09014-a8ca-4ec0-b65b-0265765c0fe6",
   "metadata": {},
   "outputs": [],
   "source": [
    "input_file='/Users/abhy245/software/ExaGO/datafiles/case9/case9mod_loadloss.m'\n",
    "\n",
    "# Create ExaGO object\n",
    "opf = exago.OPFLOW()\n",
    "\n",
    "# Read Data\n",
    "opf.read_mat_power_data(input_file)\n",
    "\n",
    "# Enable load loss\n",
    "opf.set_has_loadloss(True)\n",
    "\n",
    "# Set load loss penalty\n",
    "opf.set_loadloss_penalty(1000)\n",
    "\n",
    "# Solve\n",
    "opf.solve()\n",
    "\n",
    "# Print solution\n",
    "opf.print_solution()\n",
    "\n",
    "# Save solution\n",
    "opf.save_solution(exago.OutputFormat.JSON, 'case9sol')\n",
    "\n",
    "del opf\n",
    "\n",
    "import json\n",
    "\n",
    "fp = open('case9sol.json')\n",
    "dict = json.load(fp)\n",
    "\n",
    "dict['summary']\n"
   ]
  },
  {
   "cell_type": "markdown",
   "metadata": {},
   "source": [
    "#### 2. Run security-constrained ACOPF"
   ]
  },
  {
   "cell_type": "code",
   "execution_count": null,
   "metadata": {},
   "outputs": [],
   "source": [
    "import exago\n",
    "import os\n",
    "\n",
    "# Create security-constrained ACOPF (SCOPF) object\n",
    "scopf = exago.SCOPFLOW()\n",
    "\n",
    "netfile='/Users/abhy245/software/ExaGO/datafiles/case9/case9mod.m'\n",
    "ctgcfile='/Users/abhy245/software/ExaGO/datafiles/case9/case9.cont'\n",
    "\n",
    "! echo Contingency file\n",
    "! cat $ctgcfile\n",
    "\n",
    "# Set network data\n",
    "scopf.set_network_data(netfile)\n",
    "\n",
    "# Set contingency data file and input format\n",
    "scopf.set_contingency_data(ctgcfile,exago.ContingencyFileInputFormat.NATIVE)\n",
    "\n",
    "# Set number of contingencies, we select all (-1)\n",
    "scopf.set_num_contingencies(-1)\n",
    "\n",
    "# Set solver\n",
    "# Note: EMPAR solver runs each ACOPF independently.\n",
    "# To solve true SCOPF, use solver HIOP\n",
    "scopf.set_solver(\"EMPAR\")\n",
    "\n",
    "# Solve SCOPF\n",
    "scopf.solve()\n",
    "\n",
    "# Print base-case solution\n",
    "scopf.print_solution(0)\n",
    "\n",
    "# Save all contingency solutions to directory case9scopf, use MATPOWER formatted files\n",
    "scopf.save_solution_all(exago.OutputFormat.MATPOWER, 'case9scopf')\n",
    "\n",
    "# delete scopf object\n",
    "del scopf\n"
   ]
  },
  {
   "cell_type": "markdown",
   "id": "8eb02cdc-4747-45f8-9a00-0fa759c6905a",
   "metadata": {},
   "source": [
    "#### 3. Run Security-constrained Optimal Power Flow on multiple processors"
   ]
  },
  {
   "cell_type": "code",
   "execution_count": null,
   "id": "5f795ed4-6b98-4a7a-b28b-355aa31cfe16",
   "metadata": {},
   "outputs": [],
   "source": [
    "\n",
    "! cat scopflow-example.py\n"
   ]
  },
  {
   "cell_type": "markdown",
   "id": "3d1cecf1-5e49-4469-8335-7c2c68b93f35",
   "metadata": {},
   "source": [
    "#### Below code does not work from within Jupyter notebook. Need to execute it from command line"
   ]
  },
  {
   "cell_type": "code",
   "execution_count": null,
   "id": "02564103-7f3f-4272-ac32-9048adf333ee",
   "metadata": {},
   "outputs": [],
   "source": [
    "! mpiexec -n 4 python3 scopflow-example.py"
   ]
  },
  {
   "cell_type": "markdown",
   "metadata": {},
   "source": [
    "#### 4. Run stochastic security constrained ACOPF"
   ]
  },
  {
   "cell_type": "code",
   "execution_count": null,
   "metadata": {},
   "outputs": [],
   "source": [
    "import exago\n",
    "import os\n",
    "\n",
    "# Input files\n",
    "netfile='/Users/abhy245/software/ExaGO/datafiles/case9/case9mod.m'\n",
    "ctgcfile='/Users/abhy245/software/ExaGO/datafiles/case9/case9.cont'\n",
    "scenfile='/Users/abhy245/software/ExaGO/datafiles/case9/10_scenarios_9bus.csv'\n",
    "\n",
    "! echo Scenario File\n",
    "! cat $scenfile\n",
    "! echo Contingency File\n",
    "! cat $ctgcfile\n",
    "\n",
    "# Create Stochastic optimal power flow (SOPF) object\n",
    "sopf = exago.SOPFLOW()\n",
    "\n",
    "# Set network data\n",
    "sopf.set_network_data(netfile)\n",
    "\n",
    "# Set contingency data file and input format\n",
    "sopf.set_contingency_data(ctgcfile,exago.ContingencyFileInputFormat.NATIVE)\n",
    "\n",
    "# Set scenario data\n",
    "sopf.set_scenario_data(scenfile,exago.ScenarioFileInputFormat.NATIVE_SINGLEPERIOD,\n",
    "    exago.ScenarioUncertaintyType.WIND)\n",
    "\n",
    "# Set number of scenarios, we select 2\n",
    "sopf.set_num_scenarios(2)\n",
    "\n",
    "# Set number of contingencies, we select 2\n",
    "sopf.set_num_contingencies(2)\n",
    "\n",
    "# Enable multi-contingency\n",
    "sopf.enable_multi_contingency(True)\n",
    "\n",
    "# Set solver\n",
    "sopf.set_solver(\"EMPAR\")\n",
    "\n",
    "# Solve SCOPF\n",
    "sopf.solve()\n",
    "\n",
    "# Print base-case solution\n",
    "sopf.print_solution(0)\n",
    "\n",
    "# Save all contingency solutions to directory case9scopf, use MATPOWER formatted files\n",
    "sopf.save_solution_all(exago.OutputFormat.MATPOWER, 'case9sopf')\n",
    "\n",
    "# delete object\n",
    "del sopf"
   ]
  },
  {
   "cell_type": "code",
   "execution_count": null,
   "metadata": {},
   "outputs": [],
   "source": [
    "# Close ExaGO\n",
    "exago.finalize()"
   ]
  },
  {
   "cell_type": "markdown",
   "metadata": {},
   "source": [
    "#### 5. Run stochastic security-constrained ACOPF on multiple processors"
   ]
  },
  {
   "cell_type": "code",
   "execution_count": null,
   "metadata": {},
   "outputs": [],
   "source": [
    "! cat sopflow-example.py"
   ]
  },
  {
   "cell_type": "markdown",
   "metadata": {},
   "source": [
    "#### Below code does not work from within Jupyter notebook. Need to execute it from command line"
   ]
  },
  {
   "cell_type": "code",
   "execution_count": null,
   "metadata": {},
   "outputs": [],
   "source": [
    "! mpiexec -n 4 python3 sopflow-example.py"
   ]
  }
 ],
 "metadata": {
  "kernelspec": {
   "display_name": "Python 3 (ipykernel)",
   "language": "python",
   "name": "python3"
  },
  "language_info": {
   "codemirror_mode": {
    "name": "ipython",
    "version": 3
   },
   "file_extension": ".py",
   "mimetype": "text/x-python",
   "name": "python",
   "nbconvert_exporter": "python",
   "pygments_lexer": "ipython3",
   "version": "3.11.6"
  }
 },
 "nbformat": 4,
 "nbformat_minor": 5
}
