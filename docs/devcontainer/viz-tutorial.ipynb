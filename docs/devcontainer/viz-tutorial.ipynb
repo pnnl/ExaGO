{
 "cells": [
  {
   "cell_type": "markdown",
   "metadata": {},
   "source": [
    "# Intro\n",
    "\n",
    "This assumes you have gone through the intro/mpi4py intro, and that you are comfortable generating ExaGO output.\n",
    "\n",
    "Now we will go through specifics to the vizualisation frontend, how it is installed, and a typical workflow.\n",
    "\n",
    "# Open Issues:\n",
    "\n",
    "- npm dependencies were pinned and have security issues\n",
    "- requirements.txt has pinned versions and we cannot upgrade / reproduce\n",
    "- OpenAI keys and other missing steps...\n",
    "\n",
    "# Generating file to visualize\n",
    "\n",
    "I don't know how to do gic file option, so we are going to use OPFLOW C++ CLI to do this..."
   ]
  },
  {
   "cell_type": "code",
   "execution_count": 8,
   "metadata": {},
   "outputs": [
    {
     "name": "stdout",
     "output_type": "stream",
     "text": [
      "ExaGO 1.6.0 built on Nov  9 2023\n"
     ]
    }
   ],
   "source": [
    "!opflow --version"
   ]
  },
  {
   "attachments": {},
   "cell_type": "markdown",
   "metadata": {},
   "source": [
    "TODO: Going to let Shri fill the details in here, as likely we don't want people churning large data sets in a small demo, and we can include pre-generated data I would hope... include what gic is "
   ]
  },
  {
   "cell_type": "code",
   "execution_count": null,
   "metadata": {},
   "outputs": [],
   "source": [
    "!./opflow -netfile <netfile> -save_output -opflow_output_format JSON -gicfile <gicfilename>  "
   ]
  },
  {
   "attachments": {},
   "cell_type": "markdown",
   "metadata": {},
   "source": [
    "# Visualization\n",
    "\n",
    "Launch the visualization webpage through shell commands or with the following shell command:"
   ]
  },
  {
   "cell_type": "code",
   "execution_count": 1,
   "metadata": {},
   "outputs": [
    {
     "name": "stdout",
     "output_type": "stream",
     "text": [
      "Now using node v16.13.0 (npm v8.1.0)\n",
      "v16.13.0\n",
      "\n",
      "> geojson@0.0.0 start\n",
      "> webpack-dev-server --progress --hot --open\n",
      "\n",
      "\u001b[1m10% building 1/1 modules 0 active\u001b[39m\u001b[22m\u001b[34mℹ\u001b[39m \u001b[90m｢wds｣\u001b[39m: Project is running at \u001b[1m\u001b[34mhttp://localhost:8080/\u001b[39m\u001b[22m\n",
      "\u001b[34mℹ\u001b[39m \u001b[90m｢wds｣\u001b[39m: webpack output is served from \u001b[1m\u001b[34m/\u001b[39m\u001b[22m\n",
      "\u001b[34mℹ\u001b[39m \u001b[90m｢wds｣\u001b[39m: Content not from webpack is served from \u001b[1m\u001b[34m/home/app/viz\u001b[39m\u001b[22m\n",
      "\u001b[34mℹ\u001b[39m \u001b[90m｢wdm｣\u001b[39m: Hash: \u001b[1md8a5654bafde0cba2028\u001b[39m\u001b[22m2m39m\u001b[22md.js\u001b[39m\u001b[22m\u001b[2K\u001b[2K\u001b[2K\u001b[2K\u001b[2K\u001b[2K\u001b[2K\u001b[2K\u001b[2K\u001b[2K\u001b[2K\u001b[2K\u001b[2K\u001b[2K\u001b[2K\u001b[2K\u001b[2K\u001b[2K\u001b[2K\u001b[2K\u001b[2K\u001b[2K\u001b[2K\u001b[2K\u001b[2K\u001b[2K\u001b[2K\u001b[2K\u001b[2K\u001b[2K\u001b[2K\u001b[2K\u001b[2K\u001b[2K\u001b[2K\u001b[2K\u001b[2K\u001b[2K\u001b[2K\u001b[2K\u001b[2K\u001b[2K\u001b[2K\u001b[2K\u001b[2K\u001b[2K\u001b[2K\u001b[2K\u001b[2K\u001b[2K\u001b[2K\u001b[2K\u001b[2K\u001b[2K\u001b[2K\u001b[2K\u001b[2K\u001b[2K\u001b[2K\u001b[2K\u001b[2K\u001b[2K\u001b[2K\u001b[2K\u001b[2K\u001b[2K\u001b[2K\u001b[2K\u001b[2K\u001b[2K\u001b[2K\u001b[2K\u001b[2K\u001b[2K\u001b[2K\u001b[2K\u001b[2K\u001b[2K\u001b[2K\u001b[2K\u001b[2K\u001b[2K\u001b[2K\u001b[2K\u001b[2K\u001b[2K\u001b[2K\u001b[2K\u001b[2K\u001b[2K\u001b[2K\u001b[2K\u001b[2K\u001b[2K\u001b[2K\u001b[2K\u001b[2K\u001b[2K\u001b[2K\u001b[2K\u001b[2K\u001b[2K\u001b[2K\u001b[2K\u001b[2K\u001b[2K\u001b[2K\u001b[2K\u001b[2K\u001b[2K\u001b[2K\u001b[2K\u001b[2K\u001b[2K\u001b[2K\u001b[2K\u001b[2K\u001b[2K\u001b[2K\u001b[2K\u001b[2K\u001b[2K\u001b[2K\u001b[2K\u001b[2K\u001b[2K\u001b[2K\u001b[2K\u001b[2K\u001b[2K\u001b[2K\u001b[2K\u001b[2K\u001b[2K\u001b[2K\u001b[2K\u001b[2K\u001b[2K\u001b[2K\u001b[2K\u001b[2K\u001b[2K\u001b[2K\u001b[2K\u001b[2K\u001b[2K\u001b[2K\u001b[2K\u001b[2K\u001b[2K\u001b[2K\u001b[2K\u001b[2K\u001b[2K\u001b[2K\u001b[2K\u001b[2K\u001b[2K\u001b[2K\u001b[2K\u001b[2K\u001b[2K\u001b[2K\u001b[2K\u001b[2K\u001b[2K\u001b[2K\u001b[2K\u001b[2K\u001b[2K\u001b[2K\u001b[2K\u001b[2K\u001b[2K\u001b[2K\u001b[2K\u001b[2K\u001b[2K\u001b[2K\u001b[2K\u001b[2K\u001b[2K\u001b[2K\u001b[2K\u001b[2K\u001b[2K\u001b[2K\u001b[2K\u001b[2K\u001b[2K\u001b[2K\u001b[2K\u001b[2K\u001b[2K\u001b[2K\u001b[2K\u001b[2K\u001b[2K\u001b[2K\u001b[2K\u001b[2K\u001b[2K\u001b[2K\u001b[2K\u001b[2K\u001b[2K\u001b[2K\u001b[2K\u001b[2K\u001b[2K\u001b[2K\u001b[2K\u001b[2K\u001b[2K\u001b[2K\u001b[2K\u001b[2K\u001b[2K\u001b[2K\u001b[2K\u001b[2K\u001b[2K\u001b[2K\u001b[2K\u001b[2K\u001b[2K\u001b[2K\u001b[2K\u001b[2K\u001b[2K\u001b[2K\u001b[2K\u001b[2K\u001b[2K\u001b[2K\u001b[2K\u001b[2K\u001b[2K\u001b[2K\u001b[2K\u001b[2K\u001b[2K\u001b[2K\u001b[2K\u001b[2K\u001b[2K\u001b[2K\u001b[2K\u001b[2K\u001b[2K\u001b[2K\u001b[2K\u001b[2K\u001b[2K\u001b[2K\u001b[2K\u001b[2K\u001b[2K\u001b[2K\u001b[2K\u001b[2K\u001b[2K\u001b[2K\u001b[2K\u001b[2K\u001b[2K\u001b[2K\u001b[2K\u001b[2K\u001b[2K\u001b[2K\u001b[2K\u001b[2K\u001b[2K\u001b[2K\u001b[2K\u001b[2K\u001b[2K\u001b[2K\u001b[2K\u001b[2K\u001b[2K\u001b[2K\u001b[2K\u001b[2K\u001b[2K\u001b[2K\u001b[2K\u001b[2K\u001b[2K\u001b[2K\u001b[2K\u001b[2K\u001b[2K\u001b[2K\u001b[2K\u001b[2K\u001b[2K\u001b[2K\u001b[2K\u001b[2K\u001b[2K\u001b[2K\u001b[2K\u001b[2K\u001b[2K\u001b[2K\u001b[2K\u001b[2K\u001b[2K\u001b[2K\u001b[2K\u001b[2K\u001b[2K\u001b[2K\u001b[2K\u001b[2K\u001b[2K\u001b[2K\u001b[2K\u001b[2K\u001b[2K\u001b[2K\u001b[2K\u001b[2K\u001b[2K\u001b[2K\u001b[2K\u001b[2K\u001b[2K\u001b[2K\u001b[2K\u001b[2K\u001b[2K\u001b[2K\u001b[2K\u001b[2K\u001b[2K\u001b[2K\u001b[2K\u001b[2K\u001b[2K\u001b[2K\u001b[2K\u001b[2K\u001b[2K\u001b[2K\u001b[2K\u001b[2K\u001b[2K\u001b[2K\u001b[2K\u001b[2K\u001b[2K\u001b[2K\u001b[2K\u001b[2K\u001b[2K\u001b[2K\u001b[2K\u001b[2K\u001b[2K\u001b[2K\u001b[2K\u001b[2K\u001b[2K\u001b[2K\u001b[2K\u001b[2K\u001b[2K\u001b[2K\u001b[2K\u001b[2K\u001b[2K\u001b[2K\u001b[2K\u001b[2K\u001b[2K\u001b[2K\u001b[2K\u001b[2K\u001b[2K\u001b[2K\u001b[2K\u001b[2K\u001b[2K\u001b[2K\u001b[2K\u001b[2K\u001b[2K\u001b[2K\u001b[2K\u001b[2K\u001b[2K\u001b[2K\u001b[2K\u001b[2K\u001b[2K\u001b[2K\u001b[2K\u001b[2K\u001b[2K\u001b[2K\u001b[2K\u001b[2K\u001b[2K\u001b[2K\u001b[2K\u001b[2K\u001b[2K\u001b[2K\u001b[2K\u001b[2K\u001b[2K\u001b[2K\u001b[2K\u001b[2K\u001b[2K\u001b[2K\u001b[2K\u001b[2K\u001b[2K\u001b[2K\u001b[2K\u001b[2K\u001b[2K\u001b[2K\u001b[2K\u001b[2K\u001b[2K\u001b[2K\u001b[2K\u001b[2K\u001b[2K\u001b[2K\u001b[2K\u001b[2K\u001b[2K\u001b[2K\u001b[2K\u001b[2K\u001b[2K\u001b[2K\u001b[2K\u001b[2K\u001b[2K\u001b[2K\u001b[2K\u001b[2K\u001b[2K\u001b[2K\u001b[2K\u001b[2K\u001b[2K\u001b[2K\u001b[2K\u001b[2K\u001b[2K\u001b[2K\u001b[2K\u001b[2K\u001b[2K\u001b[2K\u001b[2K\u001b[2K\u001b[2K\u001b[2K\u001b[2K\u001b[2K\u001b[2K\u001b[2K\u001b[2K\u001b[2K\u001b[2K\u001b[2K\u001b[2K\u001b[2K\u001b[2K\u001b[2K\u001b[2K\u001b[2K\u001b[2K\u001b[2K\u001b[2K\u001b[2K\u001b[2K\u001b[2K\u001b[2K\u001b[2K\u001b[2K\u001b[2K\u001b[2K\u001b[2K\u001b[2K\u001b[2K\u001b[2K\u001b[2K\u001b[2K\u001b[2K\u001b[2K\u001b[2K\u001b[2K\u001b[2K\u001b[2K\u001b[2K\u001b[2K\u001b[2K\u001b[2K\u001b[2K\u001b[2K\u001b[2K\u001b[2K\u001b[2K\u001b[2K\u001b[2K\u001b[2K\u001b[2K\u001b[2K\u001b[2K\u001b[2K\u001b[2K\u001b[2K\u001b[2K\u001b[2K\u001b[2K\u001b[2K\u001b[2K\u001b[2K\u001b[2K\u001b[2K\u001b[2K\u001b[2K\u001b[2K\u001b[2K\u001b[2K\u001b[2K\u001b[2K\u001b[2K\u001b[2K\u001b[2K\u001b[2K\u001b[2K\u001b[2K\u001b[2K\u001b[2K\u001b[2K\u001b[2K\u001b[2K\u001b[2K\u001b[2K\u001b[2K\u001b[2K\u001b[2K\u001b[2K\u001b[2K\u001b[2K\u001b[2K\u001b[2K\u001b[2K\u001b[2K\u001b[2K\u001b[2K\u001b[2K\u001b[2K\u001b[2K\u001b[2K\u001b[2K\u001b[2K\u001b[2K\u001b[2K\u001b[2K\u001b[2K\u001b[2K\u001b[2K\u001b[2K\u001b[2K\u001b[2K\u001b[2K\u001b[2K\u001b[2K\u001b[2K\u001b[2K\u001b[2K\u001b[2K\u001b[2K\u001b[2K\u001b[2K\u001b[2K\u001b[2K\u001b[2K\u001b[2K\u001b[2K\u001b[2K\u001b[2K\u001b[2K\u001b[2K\u001b[2K\u001b[2K\u001b[2K\u001b[2K\u001b[2K\u001b[2K\u001b[2K\u001b[2K\u001b[2K\u001b[2K\u001b[2K\u001b[2K\u001b[2K\u001b[2K\u001b[2K\u001b[2K\u001b[2K\u001b[2K\u001b[2K\u001b[2K\u001b[2K\u001b[2K\u001b[2K\u001b[2K\u001b[2K\u001b[2K\u001b[2K\u001b[2K\u001b[2K\u001b[2K\u001b[2K\u001b[2K\u001b[2K\u001b[2K\u001b[2K\u001b[2K\u001b[2K\u001b[2K\u001b[2K\u001b[2K\u001b[2K\u001b[2K\u001b[2K\u001b[2K\u001b[2K\u001b[2K\u001b[2K\u001b[2K\u001b[2K\u001b[2K\u001b[2K\u001b[2K\u001b[2K\u001b[2K\u001b[2K\u001b[2K\u001b[2K\u001b[2K\u001b[2K\u001b[2K\u001b[2K\u001b[2K\u001b[2K\u001b[2K\u001b[2K\u001b[2K\u001b[2K\u001b[2K\u001b[2K\u001b[2K\u001b[2K\u001b[2K\u001b[2K\u001b[2K\u001b[2K\u001b[2K\u001b[2K\u001b[2K\u001b[2K\u001b[2K\u001b[2K\u001b[2K\u001b[2K\u001b[2K\u001b[2K\u001b[2K\u001b[2K\u001b[2K\u001b[2K\u001b[2K\u001b[2K\u001b[2K\u001b[2K\u001b[2K\u001b[2K\u001b[2K\u001b[2K\u001b[2K\u001b[2K\u001b[2K\u001b[2K\u001b[2K\u001b[2K\u001b[2K\u001b[2K\u001b[2K\u001b[2K\u001b[2K\u001b[2K\u001b[2K\u001b[2K\u001b[2K\u001b[2K\u001b[2K\u001b[2K\u001b[2K\u001b[2K\u001b[2K\u001b[2K\u001b[2K\u001b[2K\u001b[2K\u001b[2K\u001b[2K\u001b[2K\u001b[2K\u001b[2K\u001b[2K\u001b[2K\u001b[2K\u001b[2K\u001b[2K\u001b[2K\u001b[2K\u001b[2K\u001b[2K\u001b[2K\u001b[2K\u001b[2K\u001b[2K\u001b[2K\u001b[2K\u001b[2K\u001b[2K\u001b[2K\u001b[2K\u001b[2K\u001b[2K\u001b[2K\u001b[2K\u001b[2K\u001b[2K\u001b[2K\u001b[2K\u001b[2K\u001b[2K\u001b[2K\u001b[2K\u001b[2K\u001b[2K\u001b[2K\u001b[2K\u001b[2K\u001b[2K\u001b[2K\u001b[2K\u001b[2K\u001b[2K\u001b[2K\u001b[2K\u001b[2K\u001b[2K\u001b[2K\u001b[2K\u001b[2K\u001b[2K\u001b[2K\u001b[2K\u001b[2K\u001b[2K\u001b[2K\u001b[2K\u001b[2K\u001b[2K\u001b[2K\u001b[2K\u001b[2K\u001b[2K\u001b[2K\u001b[2K\u001b[2K\u001b[2K\u001b[2K\u001b[2K\u001b[2K\u001b[2K\u001b[2K\u001b[2K\u001b[2K\u001b[2K\u001b[2K\u001b[2K\u001b[2K\u001b[2K\u001b[2K\u001b[2K\u001b[2K\u001b[2K\u001b[2K\u001b[2K\u001b[2K\u001b[2K\u001b[2K\u001b[2K\u001b[2K\u001b[2K\u001b[2K\u001b[2K\u001b[2K\u001b[2K\u001b[2K\u001b[2K\u001b[2K\u001b[2K\u001b[2K\u001b[2K\u001b[2K\u001b[2K\u001b[2K\u001b[2K\u001b[2K\u001b[2K\u001b[2K\u001b[2K\u001b[2K\u001b[2K\u001b[2K\u001b[2K\u001b[2K\u001b[2K\u001b[2K\u001b[2K\u001b[2K\u001b[2K\u001b[2K\u001b[2K\u001b[2K\u001b[2K\u001b[2K\u001b[2K\u001b[2K\u001b[2K\u001b[2K\u001b[2K\u001b[2K\u001b[2K\u001b[2K\u001b[2K\u001b[2K\u001b[2K\u001b[2K\u001b[2K\u001b[2K\u001b[2K\u001b[2K\u001b[2K\u001b[2K\u001b[2K\u001b[2K\u001b[2K\u001b[2K\u001b[2K\u001b[2K\u001b[2K\u001b[2K\u001b[2K\u001b[2K\u001b[2K\u001b[2K\u001b[2K\u001b[2K\u001b[2K\u001b[2K\u001b[2K\u001b[2K\u001b[2K\u001b[2K\u001b[2K\u001b[2K\u001b[2K\u001b[2K\u001b[2K\u001b[2K\u001b[2K\u001b[2K\u001b[2K\u001b[2K\u001b[2K\u001b[2K\u001b[2K\u001b[2K\u001b[2K\u001b[2K\u001b[2K\u001b[2K\u001b[2K\u001b[2K\u001b[2K\u001b[2K\u001b[2K\u001b[2K\u001b[2K\u001b[2K\u001b[2K\u001b[2K\u001b[2K\u001b[2K\u001b[2K\u001b[2K\u001b[2K\u001b[2K\u001b[2K\u001b[2K\u001b[2K\u001b[2K\u001b[2K\u001b[2K\u001b[2K\u001b[2K\u001b[2K\u001b[2K\u001b[2K\u001b[2K\u001b[2K\u001b[2K\u001b[2K\u001b[2K\u001b[2K\u001b[2K\u001b[2K\u001b[2K\u001b[2K\u001b[2K\u001b[2K\u001b[2K\u001b[2K\u001b[2K\u001b[2K\u001b[2K\u001b[2K\u001b[2K\u001b[2K\u001b[2K\u001b[2K\u001b[2K\u001b[2K\u001b[2K\u001b[2K\u001b[2K\u001b[2K\u001b[2K\u001b[2K\u001b[2K\u001b[2K\u001b[2K\u001b[2K\u001b[2K\u001b[2K\u001b[2K\u001b[2K\u001b[2K\u001b[2K\u001b[2K\u001b[2K\u001b[2K\u001b[2K\u001b[2K\u001b[2K\u001b[2K\u001b[2K\u001b[2K\u001b[2K\u001b[2K\u001b[2K\u001b[2K\u001b[2K\u001b[2K\u001b[2K\u001b[2K\u001b[2K\u001b[2K\u001b[2K\u001b[2K\u001b[2K\u001b[2K\u001b[2K\u001b[2K\u001b[2K\u001b[2K\u001b[2K\u001b[2K\u001b[2K\u001b[2K\u001b[2K\u001b[2K\u001b[2K\u001b[2K\u001b[2K\u001b[2K\u001b[2K\u001b[2K\u001b[2K\u001b[2K\u001b[2K\u001b[2K\u001b[2K\u001b[2K\u001b[2K\u001b[2K\u001b[2K\u001b[2K\u001b[2K\u001b[2K\u001b[2K\u001b[2K\u001b[2K\u001b[2K\u001b[2K\u001b[2K\u001b[2K\u001b[2K\u001b[2K\u001b[2K\u001b[2K\u001b[2K\u001b[2K\u001b[2K\u001b[2K\u001b[2K\u001b[2K\u001b[2K\u001b[2K\u001b[2K\u001b[2K\u001b[2K\u001b[2K\u001b[2K\u001b[2K\u001b[2K\u001b[2K\u001b[2K\u001b[2K\u001b[2K\u001b[2K\u001b[2K\u001b[2K\u001b[2K\u001b[2K\u001b[2K\u001b[2K\u001b[2K\u001b[2K\u001b[2K\u001b[2K\u001b[2K\u001b[2K\u001b[2K\u001b[2K\u001b[2K\u001b[2K\u001b[2K\u001b[2K\u001b[2K\u001b[2K\u001b[2K\u001b[2K\u001b[2K\u001b[2K\u001b[2K\u001b[2K\u001b[2K\u001b[2K\u001b[2K\u001b[2K\u001b[2K\u001b[2K\u001b[2K\u001b[2K\u001b[2K\u001b[2K\u001b[2K\u001b[2K\u001b[2K\u001b[2K\u001b[2K\u001b[2K\u001b[2K\u001b[2K\u001b[2K\u001b[2K\u001b[2K\u001b[2K\u001b[2K\u001b[2K\u001b[2K\u001b[2K\u001b[2K\u001b[2K\u001b[2K\u001b[2K\u001b[2K\u001b[2K\u001b[2K\u001b[2K\u001b[2K\u001b[2K\u001b[2K\u001b[2K\u001b[2K\u001b[2K\u001b[2K\u001b[2K\u001b[2K\u001b[2K\u001b[2K\u001b[2K\u001b[2K\u001b[2K\u001b[2K\u001b[2K\u001b[2K\u001b[2K\u001b[2K\u001b[2K\u001b[2K\u001b[2K\u001b[2K\u001b[2K\u001b[2K\u001b[2K\u001b[2K\u001b[2K\u001b[2K\u001b[2K\u001b[2K\u001b[2K\u001b[2K\u001b[2K\u001b[2K\u001b[2K\u001b[2K\u001b[2K\u001b[2K\u001b[2K\u001b[2K\u001b[2K\u001b[2K\u001b[2K\u001b[2K\u001b[2K\u001b[2K\u001b[2K\u001b[2K\u001b[2K\u001b[2K\u001b[2K\u001b[2K\u001b[2K\u001b[2K\u001b[2K\u001b[2K\u001b[2K\u001b[2K\u001b[2K\u001b[2K\u001b[2K\u001b[2K\u001b[2K\u001b[2K\u001b[2K\u001b[2K\u001b[2K\u001b[2K\u001b[2K\u001b[2K\u001b[2K\u001b[2K\u001b[2K\u001b[2K\u001b[2K\u001b[2K\u001b[2K\u001b[2K\u001b[2K\u001b[2K\u001b[2K\u001b[2K\u001b[2K\u001b[2K\u001b[2K\u001b[2K\u001b[2K\u001b[2K\u001b[2K\u001b[2K\u001b[2K\u001b[2K\u001b[2K\u001b[2K\u001b[2K\u001b[2K\u001b[2K\u001b[2K\n",
      "Version: webpack \u001b[1m4.47.0\u001b[39m\u001b[22m\n",
      "Time: \u001b[1m90373\u001b[39m\u001b[22mms\n",
      "Built at: 11/20/2023 \u001b[1m3:38:32 PM\u001b[39m\u001b[22m\n",
      "     \u001b[1mAsset\u001b[39m\u001b[22m      \u001b[1mSize\u001b[39m\u001b[22m  \u001b[1mChunks\u001b[39m\u001b[22m  \u001b[1m\u001b[39m\u001b[22m                 \u001b[1m\u001b[39m\u001b[22m\u001b[1mChunk Names\u001b[39m\u001b[22m\n",
      "    \u001b[1m\u001b[32mapp.js\u001b[39m\u001b[22m  45.6 MiB     \u001b[1mapp\u001b[39m\u001b[22m  \u001b[1m\u001b[32m[emitted]\u001b[39m\u001b[22m        app\n",
      "\u001b[1m\u001b[32mapp.js.map\u001b[39m\u001b[22m  20.7 MiB     \u001b[1mapp\u001b[39m\u001b[22m  \u001b[1m\u001b[32m[emitted] [dev]\u001b[39m\u001b[22m  app\n",
      "Entrypoint \u001b[1mapp\u001b[39m\u001b[22m = \u001b[1m\u001b[32mapp.js\u001b[39m\u001b[22m \u001b[1m\u001b[32mapp.js.map\u001b[39m\u001b[22m\n",
      "[0] \u001b[1mmulti (webpack)-dev-server/client?http://localhost:8080 (webpack)/hot/dev-server.js ./app.js\u001b[39m\u001b[22m 52 bytes {\u001b[1m\u001b[33mapp\u001b[39m\u001b[22m}\u001b[1m\u001b[32m [built]\u001b[39m\u001b[22m\n",
      "[\u001b[1m./app.js\u001b[39m\u001b[22m] 44.1 KiB {\u001b[1m\u001b[33mapp\u001b[39m\u001b[22m}\u001b[1m\u001b[32m [built]\u001b[39m\u001b[22m\n",
      "[\u001b[1m./module_casedata.js\u001b[39m\u001b[22m] 354 bytes {\u001b[1m\u001b[33mapp\u001b[39m\u001b[22m}\u001b[1m\u001b[32m [built]\u001b[39m\u001b[22m\n",
      "[\u001b[1m./node_modules/@deck.gl/core/dist/esm/index.js\u001b[39m\u001b[22m] 3.49 KiB {\u001b[1m\u001b[33mapp\u001b[39m\u001b[22m}\u001b[1m\u001b[32m [built]\u001b[39m\u001b[22m\n",
      "[\u001b[1m./node_modules/@deck.gl/extensions/dist/esm/index.js\u001b[39m\u001b[22m] 795 bytes {\u001b[1m\u001b[33mapp\u001b[39m\u001b[22m}\u001b[1m\u001b[32m [built]\u001b[39m\u001b[22m\n",
      "[\u001b[1m./node_modules/@deck.gl/layers/dist/esm/index.js\u001b[39m\u001b[22m] 1.14 KiB {\u001b[1m\u001b[33mapp\u001b[39m\u001b[22m}\u001b[1m\u001b[32m [built]\u001b[39m\u001b[22m\n",
      "[\u001b[1m./node_modules/@deck.gl/react/dist/esm/index.js\u001b[39m\u001b[22m] 115 bytes {\u001b[1m\u001b[33mapp\u001b[39m\u001b[22m}\u001b[1m\u001b[32m [built]\u001b[39m\u001b[22m\n",
      "[\u001b[1m./node_modules/@mui/icons-material/ArrowDropDown.js\u001b[39m\u001b[22m] 492 bytes {\u001b[1m\u001b[33mapp\u001b[39m\u001b[22m}\u001b[1m\u001b[32m [built]\u001b[39m\u001b[22m\n",
      "[\u001b[1m./node_modules/@mui/icons-material/HomeOutlined.js\u001b[39m\u001b[22m] 554 bytes {\u001b[1m\u001b[33mapp\u001b[39m\u001b[22m}\u001b[1m\u001b[32m [built]\u001b[39m\u001b[22m\n",
      "[\u001b[1m./node_modules/@mui/icons-material/ThreeSixtyOutlined.js\u001b[39m\u001b[22m] 670 bytes {\u001b[1m\u001b[33mapp\u001b[39m\u001b[22m}\u001b[1m\u001b[32m [built]\u001b[39m\u001b[22m\n",
      "[\u001b[1m./node_modules/@mui/icons-material/esm/index.js\u001b[39m\u001b[22m] 688 KiB {\u001b[1m\u001b[33mapp\u001b[39m\u001b[22m}\u001b[1m\u001b[32m [built]\u001b[39m\u001b[22m\n",
      "[\u001b[1m./node_modules/@mui/material/Accordion/index.js\u001b[39m\u001b[22m] 155 bytes {\u001b[1m\u001b[33mapp\u001b[39m\u001b[22m}\u001b[1m\u001b[32m [built]\u001b[39m\u001b[22m\n",
      "[\u001b[1m./node_modules/@mui/material/AccordionDetails/index.js\u001b[39m\u001b[22m] 183 bytes {\u001b[1m\u001b[33mapp\u001b[39m\u001b[22m}\u001b[1m\u001b[32m [built]\u001b[39m\u001b[22m\n",
      "[./node_modules/webpack-dev-server/client/index.js?http://localhost:8080] \u001b[1m(webpack)-dev-server/client?http://localhost:8080\u001b[39m\u001b[22m 4.29 KiB {\u001b[1m\u001b[33mapp\u001b[39m\u001b[22m}\u001b[1m\u001b[32m [built]\u001b[39m\u001b[22m\n",
      "[./node_modules/webpack/hot/dev-server.js] \u001b[1m(webpack)/hot/dev-server.js\u001b[39m\u001b[22m 1.59 KiB {\u001b[1m\u001b[33mapp\u001b[39m\u001b[22m}\u001b[1m\u001b[32m [built]\u001b[39m\u001b[22m\n",
      "    + 12854 hidden modules\n",
      "\u001b[34mℹ\u001b[39m \u001b[90m｢wdm｣\u001b[39m: Compiled successfully.\n",
      "^C\n"
     ]
    }
   ],
   "source": [
    "!cd /home/app/viz && . /usr/local/share/nvm/nvm.sh && nvm use 16.13.0 && node --version && npm start"
   ]
  },
  {
   "cell_type": "markdown",
   "metadata": {},
   "source": [
    "# ChatGrid"
   ]
  },
  {
   "cell_type": "markdown",
   "metadata": {},
   "source": [
    "TODO:\n",
    "- Get pSQL DB working\n",
    "- Get ChatGPT / external LLM configuration working"
   ]
  },
  {
   "cell_type": "markdown",
   "metadata": {},
   "source": [
    "\n",
    "# Installation\n",
    "\n",
    "This is done through the `postCreateCommand` that is configured in `.devcontainer/devcontainer.json` in theroy. Still debugging, so I did some stuff through Jupyter magic just to iterate quickly."
   ]
  },
  {
   "cell_type": "code",
   "execution_count": 2,
   "metadata": {},
   "outputs": [
    {
     "name": "stdout",
     "output_type": "stream",
     "text": [
      "{\n",
      "\t\"build\": {\n",
      "\t\t\"dockerfile\": \"Dockerfile\",\n",
      "\t\t\"context\": \"..\"\n",
      "\t},\n",
      "\t\"customizations\": {\n",
      "\t\t\"vscode\": {\n",
      "\t\t\t\"extensions\": [\n",
      "\t\t\t\t\"ms-azuretools.vscode-docker\",\n",
      "\t\t\t\t\"github.vscode-github-actions\",\n",
      "\t\t\t\t\"ms-toolsai.jupyter\",\n",
      "\t\t\t\t\"GitHub.copilot\",\n",
      "\t\t\t\t\"ms-vsliveshare.vsliveshare\"\n",
      "\t\t\t]\n",
      "\t\t}\n",
      "\t},\n",
      "\t\"workspaceFolder\": \"/home/app/\",\n",
      "  \t\"postCreateCommand\": \"cd /home/app/viz && export CXX=$(which gcc) && npm install\",\n",
      "    \"workspaceMount\": \"source=${localWorkspaceFolder},target=/home/app/,type=bind,consistency=cached\"\n",
      "}\n"
     ]
    }
   ],
   "source": [
    "!cat ../../.devcontainer/devcontainer.json"
   ]
  },
  {
   "cell_type": "code",
   "execution_count": 3,
   "metadata": {},
   "outputs": [
    {
     "name": "stdout",
     "output_type": "stream",
     "text": [
      "9.2.0\n"
     ]
    }
   ],
   "source": [
    "!npm --version"
   ]
  },
  {
   "cell_type": "code",
   "execution_count": 5,
   "metadata": {},
   "outputs": [
    {
     "name": "stdout",
     "output_type": "stream",
     "text": [
      "v18.13.0\n"
     ]
    }
   ],
   "source": [
    "!node --version"
   ]
  },
  {
   "cell_type": "code",
   "execution_count": 7,
   "metadata": {},
   "outputs": [
    {
     "name": "stdout",
     "output_type": "stream",
     "text": [
      "# Build stage with Spack pre-installed and ready to be used\n",
      "FROM spack/ubuntu-jammy as builder\n",
      "\n",
      "# Install OS packages needed to build the software\n",
      "RUN apt-get -yqq update && apt-get -yqq upgrade \\\n",
      " && apt-get -yqq install autoconf \\\n",
      " && rm -rf /var/lib/apt/lists/*\n",
      "\n",
      "# What we want to install and how we want to install it\n",
      "# is specified in a manifest file (spack.yaml)\n",
      "RUN mkdir /opt/spack-environment \\\n",
      "&&  (echo spack: \\\n",
      "&&   echo '  specs:' \\\n",
      "&&   echo '  - exago@1.6.0+ipopt+python+mpi' \\\n",
      "&&   echo '  - petsc~fortran~hdf5~hypre+metis' \\\n",
      "&&   echo '  - ipopt@3.12.10+coinhsl~mumps+metis' \\\n",
      "&&   echo '  - coinhsl@2019.05.21+blas' \\\n",
      "&&   echo '  - py-jupyterlab' \\\n",
      "&&   echo '  - py-ipyparallel' \\\n",
      "&&   echo '  concretizer:' \\\n",
      "&&   echo '    unify: true' \\\n",
      "&&   echo '    reuse: true' \\\n",
      "&&   echo '  mirrors:' \\\n",
      "&&   echo '    spack: https://binaries.spack.io/develop' \\\n",
      "&&   echo '  packages:' \\\n",
      "&&   echo '    all:' \\\n",
      "&&   echo '      providers:' \\\n",
      "&&   echo '        mpi:' \\\n",
      "&&   echo '        - openmpi' \\\n",
      "&&   echo '        zlib-api:' \\\n",
      "&&   echo '        - zlib' \\\n",
      "&&   echo '    zlib-ng:' \\\n",
      "&&   echo '      buildable: false' \\\n",
      "&&   echo '  config:' \\\n",
      "&&   echo '    install_tree: /opt/software' \\\n",
      "&&   echo '  view: /opt/views/view') > /opt/spack-environment/spack.yaml\n",
      "\n",
      "# This is manual, and required to build Ipopt\n",
      "COPY coinhsl-archive-2019.05.21.tar.gz /opt/spack-environment/coinhsl-archive-2019.05.21.tar.gz\n",
      "\n",
      "# Find external packages\n",
      "RUN cd /opt/spack-environment && spack env activate . && spack external find --all\n",
      "\n",
      "# Do this separate of install to cache keys...\n",
      "RUN cd /opt/spack-environment && spack env activate . && spack mirror add develop https://binaries.spack.io/develop && spack buildcache keys --install --trust && spack concretize -f && spack mirror create -a\n",
      "\n",
      "# Install Ipopt w/ CoinHSL (and other deps) in stages to cache builds\n",
      "RUN cd /opt/spack-environment && spack env activate . && spack install --fail-fast ipopt\n",
      "\n",
      "# Install PETSc \n",
      "RUN cd /opt/spack-environment && spack env activate . && spack install --fail-fast petsc\n",
      "\n",
      "# Install py-jupyterlab\n",
      "RUN cd /opt/spack-environment && spack env activate . && spack install --fail-fast py-jupyterlab\n",
      "\n",
      "# Install py-ipyparallel\n",
      "RUN cd /opt/spack-environment && spack env activate . && spack install --fail-fast py-ipyparallel\n",
      "\n",
      "# Install the software, remove unnecessary deps\n",
      "RUN cd /opt/spack-environment && spack env activate . && spack install --fail-fast && spack gc -y\n",
      "\n",
      "# Strip all the binaries\n",
      "RUN find -L /opt/views/view/* -type f -exec readlink -f '{}' \\; | \\\n",
      "    xargs file -i | \\\n",
      "    grep 'charset=binary' | \\\n",
      "    grep 'x-executable\\|x-archive\\|x-sharedlib' | \\\n",
      "    awk -F: '{print $1}' | xargs strip\n",
      "\n",
      "# Modifications to the environment that are necessary to run\n",
      "RUN cd /opt/spack-environment && \\\n",
      "    spack env activate --sh -d . > activate.sh\n",
      "\n",
      "\n",
      "# Bare OS image to run the installed executables\n",
      "FROM mcr.microsoft.com/devcontainers/python:3.11-bookworm\n",
      "\n",
      "COPY --from=builder /opt/spack-environment /opt/spack-environment\n",
      "COPY --from=builder /opt/software /opt/software\n",
      "\n",
      "# paths.view is a symlink, so copy the parent to avoid dereferencing and duplicating it\n",
      "COPY --from=builder /opt/views /opt/views\n",
      "\n",
      "RUN { \\\n",
      "      echo '#!/bin/sh' \\\n",
      "      && echo '.' /opt/spack-environment/activate.sh \\\n",
      "      && echo 'exec \"$@\"'; \\\n",
      "    } > /entrypoint.sh \\\n",
      "&& chmod a+x /entrypoint.sh \\\n",
      "&& ln -s /opt/views/view /opt/view\n",
      "\n",
      "\n",
      "RUN apt-get -yqq update && apt-get -yqq upgrade \\\n",
      " && apt-get -yqq install gfortran nodejs npm \\\n",
      " && rm -rf /var/lib/apt/lists/*\n",
      "ENTRYPOINT [ \"/entrypoint.sh\" ]\n",
      "CMD [ \"/bin/bash\" ]\n",
      "\n",
      "# Make sure devcontainer user gets spack packages\n",
      "RUN echo \"source /entrypoint.sh\" >> /home/vscode/.bashrc\n",
      "\n",
      "# Install the Jupyter kernel\n",
      "RUN . /entrypoint.sh && \\\n",
      "       python3 -m ipykernel install \\\n",
      "        --name py311-exago \\\n",
      "        --display-name \"ExaGO\" \\\n",
      "        --prefix=\n",
      "\n",
      "# Install the mpi4py Jupyter kernel\n",
      "RUN . /entrypoint.sh && \\\n",
      "       python3 -m ipykernel install \\\n",
      "        --name py311-mpi4py-exago \\\n",
      "        --display-name \"ExaGO w/ MPI\" \\\n",
      "        --prefix=\n",
      "\n",
      "# Make modifications that are necessary to run mpi4py in kernelspec\n",
      "RUN sed -i 's/\\\"\\/opt\\/views\\/view\\/bin\\/python3\\\"/\\\"mpiexec\\\", \\\"-n\\\", \\\"1\\\", \\\"\\/opt\\/views\\/view\\/bin\\/python3\\\"/g' /usr/local/share/jupyter/kernels/py311-mpi4py-exago/kernel.json\n",
      "\n",
      "# Configure user for container\n",
      "USER vscode\n"
     ]
    }
   ],
   "source": [
    "!cat ../../.devcontainer/Dockerfile"
   ]
  }
 ],
 "metadata": {
  "kernelspec": {
   "display_name": "ExaGO w/ MPI",
   "language": "python",
   "name": "py311-mpi4py-exago"
  },
  "language_info": {
   "codemirror_mode": {
    "name": "ipython",
    "version": 3
   },
   "file_extension": ".py",
   "mimetype": "text/x-python",
   "name": "python",
   "nbconvert_exporter": "python",
   "pygments_lexer": "ipython3",
   "version": "3.11.6"
  },
  "vscode": {
   "interpreter": {
    "hash": "949777d72b0d2535278d3dc13498b2535136f6dfe0678499012e853ee9abcab1"
   }
  }
 },
 "nbformat": 4,
 "nbformat_minor": 2
}
