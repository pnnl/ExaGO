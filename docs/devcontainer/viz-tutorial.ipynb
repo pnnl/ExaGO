{
 "cells": [
  {
   "cell_type": "markdown",
   "metadata": {},
   "source": [
    "# Intro\n",
    "\n",
    "This assumes you have gone through the intro/mpi4py intro, and that you are comfortable generating ExaGO output.\n",
    "\n",
    "Now we will go through specifics to the vizualisation frontend, how it is installed, and a typical workflow.\n",
    "\n",
    "# Open Issues:\n",
    "\n",
    "- npm dependencies were pinned and have security issues\n",
    "- requirements.txt has pinned versions and we cannot upgrade / reproduce\n",
    "- OpenAI keys and other missing steps...\n",
    "\n",
    "# Generating file to visualize\n",
    "\n",
    "I don't know how to do gic file option, so we are going to use OPFLOW C++ CLI to do this..."
   ]
  },
  {
   "cell_type": "code",
   "execution_count": 8,
   "metadata": {},
   "outputs": [
    {
     "name": "stdout",
     "output_type": "stream",
     "text": [
      "ExaGO 1.6.0 built on Nov  9 2023\n"
     ]
    }
   ],
   "source": [
    "!opflow --version"
   ]
  },
  {
   "cell_type": "markdown",
   "metadata": {},
   "source": [
    "TODO: Going to let Shri fill the details in here, as likely we don't want people churning large data sets in a small demo, and we can include pre-generated data I would hope..."
   ]
  },
  {
   "cell_type": "code",
   "execution_count": null,
   "metadata": {},
   "outputs": [],
   "source": [
    "!./opflow -netfile <netfile> -save_output -opflow_output_format JSON -gicfile <gicfilename>  "
   ]
  },
  {
   "cell_type": "markdown",
   "metadata": {},
   "source": [
    "# Visualization\n",
    "\n",
    "Launch through shell commands or with the following shell command:"
   ]
  },
  {
   "cell_type": "code",
   "execution_count": 25,
   "metadata": {},
   "outputs": [
    {
     "name": "stdout",
     "output_type": "stream",
     "text": [
      "\u001b[K\u001b[?25hm##################\u001b[0m) ⠴ reify:fsevents: \u001b[7msill\u001b[0m \u001b[35mreify\u001b[0m mark deleted [ '/home/app/viz\u001b[0m\u001b[Ks\u001b[0m\u001b[K\n",
      "> geojson@0.1.0 prepare\n",
      "> cd .. && husky install\n",
      "\n",
      "husky - Git hooks installed\n",
      "\n",
      "up to date, audited 1131 packages in 4s\n",
      "\n",
      "222 packages are looking for funding\n",
      "  run `npm fund` for details\n",
      "\n",
      "2 \u001b[33m\u001b[1mmoderate\u001b[22m\u001b[39m severity vulnerabilities\n",
      "\n",
      "To address all issues, run:\n",
      "  npm audit fix\n",
      "\n",
      "Run `npm audit` for details.\n",
      "\n",
      "> geojson@0.1.0 start\n",
      "> webpack-dev-server --progress --hot --open\n",
      "\n",
      "[webpack-cli] \u001b[31mError: Cannot find module '../../webpack.config.local'\n",
      "Require stack:\n",
      "- /home/app/viz/webpack.config.js\n",
      "- /home/app/viz/node_modules/webpack-cli/lib/webpack-cli.js\n",
      "- /home/app/viz/node_modules/webpack-cli/lib/bootstrap.js\n",
      "- /home/app/viz/node_modules/webpack-cli/bin/cli.js\n",
      "- /home/app/viz/node_modules/webpack-dev-server/bin/webpack-dev-server.js\n",
      "    at Module._resolveFilename (node:internal/modules/cjs/loader:1039:15)\n",
      "    at Module._load (node:internal/modules/cjs/loader:885:27)\n",
      "    at Module.require (node:internal/modules/cjs/loader:1105:19)\n",
      "    at require (node:internal/modules/cjs/helpers:103:18)\n",
      "    at module.exports (/home/app/viz/webpack.config.js:40:32)\n",
      "    at loadConfigByPath (/home/app/viz/node_modules/webpack-cli/lib/webpack-cli.js:1445:37)\n",
      "    at async WebpackCLI.loadConfig (/home/app/viz/node_modules/webpack-cli/lib/webpack-cli.js:1515:38)\n",
      "    at async WebpackCLI.createCompiler (/home/app/viz/node_modules/webpack-cli/lib/webpack-cli.js:1781:22)\n",
      "    at async Command.<anonymous> (/home/app/viz/node_modules/@webpack-cli/serve/lib/index.js:81:30)\n",
      "    at async Command.parseAsync (/home/app/viz/node_modules/webpack-cli/node_modules/commander/lib/command.js:935:5) {\n",
      "  code: 'MODULE_NOT_FOUND',\n",
      "  requireStack: [\n",
      "    '/home/app/viz/webpack.config.js',\n",
      "    '/home/app/viz/node_modules/webpack-cli/lib/webpack-cli.js',\n",
      "    '/home/app/viz/node_modules/webpack-cli/lib/bootstrap.js',\n",
      "    '/home/app/viz/node_modules/webpack-cli/bin/cli.js',\n",
      "    '/home/app/viz/node_modules/webpack-dev-server/bin/webpack-dev-server.js'\n",
      "  ]\n",
      "}\u001b[39m\n"
     ]
    }
   ],
   "source": [
    "!cd ../../viz && npm install && npm start"
   ]
  },
  {
   "cell_type": "markdown",
   "metadata": {},
   "source": [
    "I seem to be stuck... Let's try and capture some more debugging information really quick."
   ]
  },
  {
   "cell_type": "code",
   "execution_count": 40,
   "metadata": {},
   "outputs": [
    {
     "name": "stdout",
     "output_type": "stream",
     "text": [
      "Requirement already satisfied: pip in /usr/local/lib/python3.11/site-packages (23.2.1)\n",
      "Collecting pip\n",
      "  Obtaining dependency information for pip from https://files.pythonhosted.org/packages/47/6a/453160888fab7c6a432a6e25f8afe6256d0d9f2cbd25971021da6491d899/pip-23.3.1-py3-none-any.whl.metadata\n",
      "  Downloading pip-23.3.1-py3-none-any.whl.metadata (3.5 kB)\n",
      "Downloading pip-23.3.1-py3-none-any.whl (2.1 MB)\n",
      "\u001b[2K   \u001b[90m━━━━━━━━━━━━━━━━━━━━━━━━━━━━━━━━━━━━━━━━\u001b[0m \u001b[32m2.1/2.1 MB\u001b[0m \u001b[31m9.6 MB/s\u001b[0m eta \u001b[36m0:00:00\u001b[0ma \u001b[36m0:00:01\u001b[0m\n",
      "\u001b[?25hInstalling collected packages: pip\n",
      "  Attempting uninstall: pip\n",
      "    Found existing installation: pip 23.2.1\n",
      "    Uninstalling pip-23.2.1:\n",
      "      Successfully uninstalled pip-23.2.1\n",
      "Successfully installed pip-23.3.1\n",
      "\u001b[33mWARNING: Running pip as the 'root' user can result in broken permissions and conflicting behaviour with the system package manager. It is recommended to use a virtual environment instead: https://pip.pypa.io/warnings/venv\u001b[0m\u001b[33m\n",
      "\u001b[0mRequirement already satisfied: aiohttp==3.8.4 in /usr/local/lib/python3.11/site-packages (from -r requirements.txt (line 1)) (3.8.4)\n",
      "Requirement already satisfied: aiosignal==1.3.1 in /usr/local/lib/python3.11/site-packages (from -r requirements.txt (line 2)) (1.3.1)\n",
      "Requirement already satisfied: asttokens==2.2.1 in /usr/local/lib/python3.11/site-packages (from -r requirements.txt (line 3)) (2.2.1)\n",
      "Requirement already satisfied: async-timeout==4.0.2 in /usr/local/lib/python3.11/site-packages (from -r requirements.txt (line 4)) (4.0.2)\n",
      "Requirement already satisfied: attrs==23.1.0 in /usr/local/lib/python3.11/site-packages (from -r requirements.txt (line 5)) (23.1.0)\n",
      "Requirement already satisfied: backcall==0.2.0 in /usr/local/lib/python3.11/site-packages (from -r requirements.txt (line 6)) (0.2.0)\n",
      "Requirement already satisfied: blinker==1.6.2 in /usr/local/lib/python3.11/site-packages (from -r requirements.txt (line 7)) (1.6.2)\n",
      "Requirement already satisfied: certifi==2023.5.7 in /usr/local/lib/python3.11/site-packages (from -r requirements.txt (line 8)) (2023.5.7)\n",
      "Requirement already satisfied: charset-normalizer==3.2.0 in /usr/local/lib/python3.11/site-packages (from -r requirements.txt (line 9)) (3.2.0)\n",
      "Requirement already satisfied: click==8.1.5 in /usr/local/lib/python3.11/site-packages (from -r requirements.txt (line 10)) (8.1.5)\n",
      "Requirement already satisfied: colorama==0.4.6 in /usr/local/lib/python3.11/site-packages (from -r requirements.txt (line 11)) (0.4.6)\n",
      "Requirement already satisfied: comm==0.1.3 in /usr/local/lib/python3.11/site-packages (from -r requirements.txt (line 12)) (0.1.3)\n",
      "Requirement already satisfied: config in /usr/local/lib/python3.11/site-packages (from -r requirements.txt (line 13)) (0.5.1)\n",
      "Requirement already satisfied: dataclasses-json==0.5.9 in /usr/local/lib/python3.11/site-packages (from -r requirements.txt (line 14)) (0.5.9)\n",
      "Requirement already satisfied: debugpy==1.6.7 in /usr/local/lib/python3.11/site-packages (from -r requirements.txt (line 15)) (1.6.7)\n",
      "Requirement already satisfied: decorator==5.1.1 in /usr/local/lib/python3.11/site-packages (from -r requirements.txt (line 16)) (5.1.1)\n",
      "Requirement already satisfied: executing==1.2.0 in /usr/local/lib/python3.11/site-packages (from -r requirements.txt (line 17)) (1.2.0)\n",
      "Requirement already satisfied: Flask==2.3.2 in /usr/local/lib/python3.11/site-packages (from -r requirements.txt (line 18)) (2.3.2)\n",
      "Requirement already satisfied: Flask-Cors==4.0.0 in /usr/local/lib/python3.11/site-packages (from -r requirements.txt (line 19)) (4.0.0)\n",
      "Requirement already satisfied: frozenlist==1.4.0 in /usr/local/lib/python3.11/site-packages (from -r requirements.txt (line 20)) (1.4.0)\n",
      "Requirement already satisfied: greenlet==2.0.2 in /usr/local/lib/python3.11/site-packages (from -r requirements.txt (line 21)) (2.0.2)\n",
      "Requirement already satisfied: idna==3.4 in /usr/local/lib/python3.11/site-packages (from -r requirements.txt (line 22)) (3.4)\n",
      "Requirement already satisfied: ipykernel==6.23.3 in /usr/local/lib/python3.11/site-packages (from -r requirements.txt (line 23)) (6.23.3)\n",
      "Requirement already satisfied: ipython==8.14.0 in /usr/local/lib/python3.11/site-packages (from -r requirements.txt (line 24)) (8.14.0)\n",
      "Requirement already satisfied: itsdangerous==2.1.2 in /usr/local/lib/python3.11/site-packages (from -r requirements.txt (line 25)) (2.1.2)\n",
      "Requirement already satisfied: jedi==0.18.2 in /usr/local/lib/python3.11/site-packages (from -r requirements.txt (line 26)) (0.18.2)\n",
      "Requirement already satisfied: jellyfish==0.11.2 in /usr/local/lib/python3.11/site-packages (from -r requirements.txt (line 27)) (0.11.2)\n",
      "Requirement already satisfied: Jinja2==3.1.2 in /usr/local/lib/python3.11/site-packages (from -r requirements.txt (line 28)) (3.1.2)\n",
      "Requirement already satisfied: jupyter_client==8.3.0 in /usr/local/lib/python3.11/site-packages (from -r requirements.txt (line 29)) (8.3.0)\n",
      "Requirement already satisfied: jupyter_core==5.3.1 in /usr/local/lib/python3.11/site-packages (from -r requirements.txt (line 30)) (5.3.1)\n",
      "Requirement already satisfied: langchain==0.0.233 in /usr/local/lib/python3.11/site-packages (from -r requirements.txt (line 31)) (0.0.233)\n",
      "Requirement already satisfied: langsmith==0.0.5 in /usr/local/lib/python3.11/site-packages (from -r requirements.txt (line 32)) (0.0.5)\n",
      "Requirement already satisfied: MarkupSafe==2.1.3 in /usr/local/lib/python3.11/site-packages (from -r requirements.txt (line 33)) (2.1.3)\n",
      "Requirement already satisfied: marshmallow==3.19.0 in /usr/local/lib/python3.11/site-packages (from -r requirements.txt (line 34)) (3.19.0)\n",
      "Requirement already satisfied: marshmallow-enum==1.5.1 in /usr/local/lib/python3.11/site-packages (from -r requirements.txt (line 35)) (1.5.1)\n",
      "Requirement already satisfied: matplotlib-inline==0.1.6 in /usr/local/lib/python3.11/site-packages (from -r requirements.txt (line 36)) (0.1.6)\n",
      "Requirement already satisfied: multidict==6.0.4 in /usr/local/lib/python3.11/site-packages (from -r requirements.txt (line 37)) (6.0.4)\n",
      "Requirement already satisfied: mypy-extensions==1.0.0 in /usr/local/lib/python3.11/site-packages (from -r requirements.txt (line 38)) (1.0.0)\n",
      "Requirement already satisfied: nest-asyncio==1.5.6 in /usr/local/lib/python3.11/site-packages (from -r requirements.txt (line 39)) (1.5.6)\n",
      "Requirement already satisfied: numexpr==2.8.4 in /usr/local/lib/python3.11/site-packages (from -r requirements.txt (line 40)) (2.8.4)\n",
      "Requirement already satisfied: numpy==1.25.0 in /usr/local/lib/python3.11/site-packages (from -r requirements.txt (line 41)) (1.25.0)\n",
      "Requirement already satisfied: openai==0.27.8 in /usr/local/lib/python3.11/site-packages (from -r requirements.txt (line 42)) (0.27.8)\n",
      "Requirement already satisfied: openapi-schema-pydantic==1.2.4 in /usr/local/lib/python3.11/site-packages (from -r requirements.txt (line 43)) (1.2.4)\n",
      "Requirement already satisfied: packaging==23.1 in /usr/local/lib/python3.11/site-packages (from -r requirements.txt (line 44)) (23.1)\n",
      "Requirement already satisfied: pandas==2.0.2 in /usr/local/lib/python3.11/site-packages (from -r requirements.txt (line 45)) (2.0.2)\n",
      "Requirement already satisfied: parso==0.8.3 in /usr/local/lib/python3.11/site-packages (from -r requirements.txt (line 46)) (0.8.3)\n",
      "Requirement already satisfied: pickleshare==0.7.5 in /usr/local/lib/python3.11/site-packages (from -r requirements.txt (line 47)) (0.7.5)\n",
      "Requirement already satisfied: platformdirs==3.8.0 in /usr/local/lib/python3.11/site-packages (from -r requirements.txt (line 48)) (3.8.0)\n",
      "Requirement already satisfied: prompt-toolkit==3.0.38 in /usr/local/lib/python3.11/site-packages (from -r requirements.txt (line 49)) (3.0.38)\n",
      "Requirement already satisfied: psutil==5.9.5 in /usr/local/lib/python3.11/site-packages (from -r requirements.txt (line 50)) (5.9.5)\n",
      "Requirement already satisfied: psycopg2==2.9.6 in /usr/local/lib/python3.11/site-packages (from -r requirements.txt (line 51)) (2.9.6)\n",
      "Requirement already satisfied: pure-eval==0.2.2 in /usr/local/lib/python3.11/site-packages (from -r requirements.txt (line 52)) (0.2.2)\n",
      "Requirement already satisfied: pydantic==1.10.11 in /usr/local/lib/python3.11/site-packages (from -r requirements.txt (line 53)) (1.10.11)\n",
      "Requirement already satisfied: Pygments==2.15.1 in /usr/local/lib/python3.11/site-packages (from -r requirements.txt (line 54)) (2.15.1)\n",
      "Requirement already satisfied: python-dateutil==2.8.2 in /usr/local/lib/python3.11/site-packages (from -r requirements.txt (line 55)) (2.8.2)\n",
      "Requirement already satisfied: pytz==2023.3 in /usr/local/lib/python3.11/site-packages (from -r requirements.txt (line 56)) (2023.3)\n",
      "Requirement already satisfied: PyYAML==6.0 in /usr/local/lib/python3.11/site-packages (from -r requirements.txt (line 57)) (6.0)\n",
      "Requirement already satisfied: pyzmq==25.1.0 in /usr/local/lib/python3.11/site-packages (from -r requirements.txt (line 58)) (25.1.0)\n",
      "Requirement already satisfied: requests==2.31.0 in /usr/local/lib/python3.11/site-packages (from -r requirements.txt (line 59)) (2.31.0)\n",
      "Requirement already satisfied: shapely==2.0.1 in /usr/local/lib/python3.11/site-packages (from -r requirements.txt (line 60)) (2.0.1)\n",
      "Requirement already satisfied: six==1.16.0 in /usr/local/lib/python3.11/site-packages (from -r requirements.txt (line 61)) (1.16.0)\n",
      "Requirement already satisfied: SQLAlchemy==2.0.18 in /usr/local/lib/python3.11/site-packages (from -r requirements.txt (line 62)) (2.0.18)\n",
      "Requirement already satisfied: stack-data==0.6.2 in /usr/local/lib/python3.11/site-packages (from -r requirements.txt (line 63)) (0.6.2)\n",
      "Requirement already satisfied: tenacity==8.2.2 in /usr/local/lib/python3.11/site-packages (from -r requirements.txt (line 64)) (8.2.2)\n",
      "Requirement already satisfied: tornado==6.3.2 in /usr/local/lib/python3.11/site-packages (from -r requirements.txt (line 65)) (6.3.2)\n",
      "Requirement already satisfied: tqdm==4.65.0 in /usr/local/lib/python3.11/site-packages (from -r requirements.txt (line 66)) (4.65.0)\n",
      "Requirement already satisfied: traitlets==5.9.0 in /usr/local/lib/python3.11/site-packages (from -r requirements.txt (line 67)) (5.9.0)\n",
      "Requirement already satisfied: typing-inspect==0.9.0 in /usr/local/lib/python3.11/site-packages (from -r requirements.txt (line 68)) (0.9.0)\n",
      "Requirement already satisfied: typing_extensions==4.7.1 in /usr/local/lib/python3.11/site-packages (from -r requirements.txt (line 69)) (4.7.1)\n",
      "Requirement already satisfied: tzdata==2023.3 in /usr/local/lib/python3.11/site-packages (from -r requirements.txt (line 70)) (2023.3)\n",
      "Requirement already satisfied: urllib3==2.0.3 in /usr/local/lib/python3.11/site-packages (from -r requirements.txt (line 71)) (2.0.3)\n",
      "Requirement already satisfied: us==3.1.1 in /usr/local/lib/python3.11/site-packages (from -r requirements.txt (line 72)) (3.1.1)\n",
      "Requirement already satisfied: wcwidth==0.2.6 in /usr/local/lib/python3.11/site-packages (from -r requirements.txt (line 73)) (0.2.6)\n",
      "Requirement already satisfied: Werkzeug==2.3.6 in /usr/local/lib/python3.11/site-packages (from -r requirements.txt (line 74)) (2.3.6)\n",
      "Requirement already satisfied: yarl==1.9.2 in /usr/local/lib/python3.11/site-packages (from -r requirements.txt (line 75)) (1.9.2)\n",
      "Requirement already satisfied: pexpect>4.3 in /usr/local/lib/python3.11/site-packages (from ipython==8.14.0->-r requirements.txt (line 24)) (4.8.0)\n",
      "Requirement already satisfied: ptyprocess>=0.5 in /usr/local/lib/python3.11/site-packages (from pexpect>4.3->ipython==8.14.0->-r requirements.txt (line 24)) (0.7.0)\n",
      "\u001b[33mWARNING: Running pip as the 'root' user can result in broken permissions and conflicting behaviour with the system package manager. It is recommended to use a virtual environment instead: https://pip.pypa.io/warnings/venv\u001b[0m\u001b[33m\n",
      "\u001b[0m * Serving Flask app 'server'\n",
      " * Debug mode: on\n",
      "\u001b[31m\u001b[1mWARNING: This is a development server. Do not use it in a production deployment. Use a production WSGI server instead.\u001b[0m\n",
      " * Running on http://127.0.0.1:5000\n",
      "\u001b[33mPress CTRL+C to quit\u001b[0m\n",
      " * Restarting with stat\n",
      " * Debugger is active!\n",
      " * Debugger PIN: 110-927-162\n",
      "127.0.0.1 - - [09/Nov/2023 02:55:53] \"\u001b[33mGET / HTTP/1.1\u001b[0m\" 404 -\n",
      "127.0.0.1 - - [09/Nov/2023 02:56:04] \"\u001b[33mGET / HTTP/1.1\u001b[0m\" 404 -\n",
      "127.0.0.1 - - [09/Nov/2023 02:56:06] \"\u001b[33mGET / HTTP/1.1\u001b[0m\" 404 -\n",
      "^C\n"
     ]
    }
   ],
   "source": [
    "!cd ../../viz/backend && sudo python3 -m pip install --upgrade pip && sudo python3 -m pip install -r requirements.txt && PYTHONPATH=/usr/local/lib/python3.11/site-packages python3 server.py"
   ]
  },
  {
   "cell_type": "markdown",
   "metadata": {},
   "source": [
    "It seems like there were not only windows file endings here, but there were hard coded frozen requirements that were just for windows, and pinned for python < 3.11... Trying to run anyway just to see what happens.\n",
    "\n",
    "Stopping here, where a few dependencies where missing, and PYTHONPATH wasn't quite correct. I am missing quite a few steps, but hopefully this is close..."
   ]
  },
  {
   "cell_type": "code",
   "execution_count": 31,
   "metadata": {},
   "outputs": [
    {
     "name": "stdout",
     "output_type": "stream",
     "text": [
      "Traceback (most recent call last):\n",
      "  File \"/home/app/viz/backend/server.py\", line 2, in <module>\n",
      "    from flask import Flask\n",
      "ModuleNotFoundError: No module named 'flask'\n"
     ]
    }
   ],
   "source": [
    "!cd ../../viz/backend && python3 server.py"
   ]
  },
  {
   "cell_type": "markdown",
   "metadata": {},
   "source": [
    "\n",
    "# Installation\n",
    "\n",
    "This is done through the `postCreateCommand` that is configured in `.devcontainer/devcontainer.json` in theroy. Still debugging, so I did some stuff through Jupyter magic just to iterate quickly."
   ]
  },
  {
   "cell_type": "code",
   "execution_count": 2,
   "metadata": {},
   "outputs": [
    {
     "name": "stdout",
     "output_type": "stream",
     "text": [
      "{\n",
      "\t\"build\": {\n",
      "\t\t\"dockerfile\": \"Dockerfile\",\n",
      "\t\t\"context\": \"..\"\n",
      "\t},\n",
      "\t\"customizations\": {\n",
      "\t\t\"vscode\": {\n",
      "\t\t\t\"extensions\": [\n",
      "\t\t\t\t\"ms-azuretools.vscode-docker\",\n",
      "\t\t\t\t\"github.vscode-github-actions\",\n",
      "\t\t\t\t\"ms-toolsai.jupyter\",\n",
      "\t\t\t\t\"GitHub.copilot\",\n",
      "\t\t\t\t\"ms-vsliveshare.vsliveshare\"\n",
      "\t\t\t]\n",
      "\t\t}\n",
      "\t},\n",
      "\t\"workspaceFolder\": \"/home/app/\",\n",
      "  \t\"postCreateCommand\": \"cd /home/app/viz && export CXX=$(which gcc) && npm install\",\n",
      "    \"workspaceMount\": \"source=${localWorkspaceFolder},target=/home/app/,type=bind,consistency=cached\"\n",
      "}\n"
     ]
    }
   ],
   "source": [
    "!cat ../../.devcontainer/devcontainer.json"
   ]
  },
  {
   "cell_type": "code",
   "execution_count": 3,
   "metadata": {},
   "outputs": [
    {
     "name": "stdout",
     "output_type": "stream",
     "text": [
      "9.2.0\n"
     ]
    }
   ],
   "source": [
    "!npm --version"
   ]
  },
  {
   "cell_type": "code",
   "execution_count": 5,
   "metadata": {},
   "outputs": [
    {
     "name": "stdout",
     "output_type": "stream",
     "text": [
      "v18.13.0\n"
     ]
    }
   ],
   "source": [
    "!node --version"
   ]
  },
  {
   "cell_type": "code",
   "execution_count": 7,
   "metadata": {},
   "outputs": [
    {
     "name": "stdout",
     "output_type": "stream",
     "text": [
      "# Build stage with Spack pre-installed and ready to be used\n",
      "FROM spack/ubuntu-jammy as builder\n",
      "\n",
      "# Install OS packages needed to build the software\n",
      "RUN apt-get -yqq update && apt-get -yqq upgrade \\\n",
      " && apt-get -yqq install autoconf \\\n",
      " && rm -rf /var/lib/apt/lists/*\n",
      "\n",
      "# What we want to install and how we want to install it\n",
      "# is specified in a manifest file (spack.yaml)\n",
      "RUN mkdir /opt/spack-environment \\\n",
      "&&  (echo spack: \\\n",
      "&&   echo '  specs:' \\\n",
      "&&   echo '  - exago@1.6.0+ipopt+python+mpi' \\\n",
      "&&   echo '  - petsc~fortran~hdf5~hypre+metis' \\\n",
      "&&   echo '  - ipopt@3.12.10+coinhsl~mumps+metis' \\\n",
      "&&   echo '  - coinhsl@2019.05.21+blas' \\\n",
      "&&   echo '  - py-jupyterlab' \\\n",
      "&&   echo '  - py-ipyparallel' \\\n",
      "&&   echo '  concretizer:' \\\n",
      "&&   echo '    unify: true' \\\n",
      "&&   echo '    reuse: true' \\\n",
      "&&   echo '  mirrors:' \\\n",
      "&&   echo '    spack: https://binaries.spack.io/develop' \\\n",
      "&&   echo '  packages:' \\\n",
      "&&   echo '    all:' \\\n",
      "&&   echo '      providers:' \\\n",
      "&&   echo '        mpi:' \\\n",
      "&&   echo '        - openmpi' \\\n",
      "&&   echo '        zlib-api:' \\\n",
      "&&   echo '        - zlib' \\\n",
      "&&   echo '    zlib-ng:' \\\n",
      "&&   echo '      buildable: false' \\\n",
      "&&   echo '  config:' \\\n",
      "&&   echo '    install_tree: /opt/software' \\\n",
      "&&   echo '  view: /opt/views/view') > /opt/spack-environment/spack.yaml\n",
      "\n",
      "# This is manual, and required to build Ipopt\n",
      "COPY coinhsl-archive-2019.05.21.tar.gz /opt/spack-environment/coinhsl-archive-2019.05.21.tar.gz\n",
      "\n",
      "# Find external packages\n",
      "RUN cd /opt/spack-environment && spack env activate . && spack external find --all\n",
      "\n",
      "# Do this separate of install to cache keys...\n",
      "RUN cd /opt/spack-environment && spack env activate . && spack mirror add develop https://binaries.spack.io/develop && spack buildcache keys --install --trust && spack concretize -f && spack mirror create -a\n",
      "\n",
      "# Install Ipopt w/ CoinHSL (and other deps) in stages to cache builds\n",
      "RUN cd /opt/spack-environment && spack env activate . && spack install --fail-fast ipopt\n",
      "\n",
      "# Install PETSc \n",
      "RUN cd /opt/spack-environment && spack env activate . && spack install --fail-fast petsc\n",
      "\n",
      "# Install py-jupyterlab\n",
      "RUN cd /opt/spack-environment && spack env activate . && spack install --fail-fast py-jupyterlab\n",
      "\n",
      "# Install py-ipyparallel\n",
      "RUN cd /opt/spack-environment && spack env activate . && spack install --fail-fast py-ipyparallel\n",
      "\n",
      "# Install the software, remove unnecessary deps\n",
      "RUN cd /opt/spack-environment && spack env activate . && spack install --fail-fast && spack gc -y\n",
      "\n",
      "# Strip all the binaries\n",
      "RUN find -L /opt/views/view/* -type f -exec readlink -f '{}' \\; | \\\n",
      "    xargs file -i | \\\n",
      "    grep 'charset=binary' | \\\n",
      "    grep 'x-executable\\|x-archive\\|x-sharedlib' | \\\n",
      "    awk -F: '{print $1}' | xargs strip\n",
      "\n",
      "# Modifications to the environment that are necessary to run\n",
      "RUN cd /opt/spack-environment && \\\n",
      "    spack env activate --sh -d . > activate.sh\n",
      "\n",
      "\n",
      "# Bare OS image to run the installed executables\n",
      "FROM mcr.microsoft.com/devcontainers/python:3.11-bookworm\n",
      "\n",
      "COPY --from=builder /opt/spack-environment /opt/spack-environment\n",
      "COPY --from=builder /opt/software /opt/software\n",
      "\n",
      "# paths.view is a symlink, so copy the parent to avoid dereferencing and duplicating it\n",
      "COPY --from=builder /opt/views /opt/views\n",
      "\n",
      "RUN { \\\n",
      "      echo '#!/bin/sh' \\\n",
      "      && echo '.' /opt/spack-environment/activate.sh \\\n",
      "      && echo 'exec \"$@\"'; \\\n",
      "    } > /entrypoint.sh \\\n",
      "&& chmod a+x /entrypoint.sh \\\n",
      "&& ln -s /opt/views/view /opt/view\n",
      "\n",
      "\n",
      "RUN apt-get -yqq update && apt-get -yqq upgrade \\\n",
      " && apt-get -yqq install gfortran nodejs npm \\\n",
      " && rm -rf /var/lib/apt/lists/*\n",
      "ENTRYPOINT [ \"/entrypoint.sh\" ]\n",
      "CMD [ \"/bin/bash\" ]\n",
      "\n",
      "# Make sure devcontainer user gets spack packages\n",
      "RUN echo \"source /entrypoint.sh\" >> /home/vscode/.bashrc\n",
      "\n",
      "# Install the Jupyter kernel\n",
      "RUN . /entrypoint.sh && \\\n",
      "       python3 -m ipykernel install \\\n",
      "        --name py311-exago \\\n",
      "        --display-name \"ExaGO\" \\\n",
      "        --prefix=\n",
      "\n",
      "# Install the mpi4py Jupyter kernel\n",
      "RUN . /entrypoint.sh && \\\n",
      "       python3 -m ipykernel install \\\n",
      "        --name py311-mpi4py-exago \\\n",
      "        --display-name \"ExaGO w/ MPI\" \\\n",
      "        --prefix=\n",
      "\n",
      "# Make modifications that are necessary to run mpi4py in kernelspec\n",
      "RUN sed -i 's/\\\"\\/opt\\/views\\/view\\/bin\\/python3\\\"/\\\"mpiexec\\\", \\\"-n\\\", \\\"1\\\", \\\"\\/opt\\/views\\/view\\/bin\\/python3\\\"/g' /usr/local/share/jupyter/kernels/py311-mpi4py-exago/kernel.json\n",
      "\n",
      "# Configure user for container\n",
      "USER vscode\n"
     ]
    }
   ],
   "source": [
    "!cat ../../.devcontainer/Dockerfile"
   ]
  }
 ],
 "metadata": {
  "kernelspec": {
   "display_name": "ExaGO",
   "language": "python",
   "name": "py311-exago"
  },
  "language_info": {
   "codemirror_mode": {
    "name": "ipython",
    "version": 3
   },
   "file_extension": ".py",
   "mimetype": "text/x-python",
   "name": "python",
   "nbconvert_exporter": "python",
   "pygments_lexer": "ipython3",
   "version": "3.11.6"
  }
 },
 "nbformat": 4,
 "nbformat_minor": 2
}
